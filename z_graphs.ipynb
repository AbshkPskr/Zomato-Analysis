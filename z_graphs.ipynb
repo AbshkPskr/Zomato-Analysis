{
  "nbformat": 4,
  "nbformat_minor": 0,
  "metadata": {
    "colab": {
      "name": "z graphs.ipynb",
      "provenance": [],
      "collapsed_sections": [
        "HrleqUjIYljL",
        "j_UR44D0YwYJ",
        "Co8YfWmrIJj4",
        "NCmdH4GVHoWG"
      ],
      "authorship_tag": "ABX9TyNNZonQzjyhRNzZRy8+4+2c",
      "include_colab_link": true
    },
    "kernelspec": {
      "display_name": "Python 3",
      "name": "python3"
    }
  },
  "cells": [
    {
      "cell_type": "markdown",
      "metadata": {
        "id": "view-in-github",
        "colab_type": "text"
      },
      "source": [
        "<a href=\"https://colab.research.google.com/github/AbshkPskr/Zomato-Analysis/blob/master/z_graphs.ipynb\" target=\"_parent\"><img src=\"https://colab.research.google.com/assets/colab-badge.svg\" alt=\"Open In Colab\"/></a>"
      ]
    },
    {
      "cell_type": "code",
      "metadata": {
        "id": "VW1IX52AJC5K"
      },
      "source": [
        "import warnings\r\n",
        "warnings.filterwarnings(\"ignore\")\r\n",
        "import plotly.graph_objs as go\r\n",
        "import pandas as pd\r\n",
        "import numpy as np\r\n"
      ],
      "execution_count": 2,
      "outputs": []
    },
    {
      "cell_type": "code",
      "metadata": {
        "id": "H_peEjMDJgfw"
      },
      "source": [
        "df = pd.read_csv(\"https://raw.githubusercontent.com/AbshkPskr/Zomato-Analysis/master/reviews.csv\",\r\n",
        "                 names = ['name','rating','date','cust_rating','review','sentiment']).drop_duplicates()"
      ],
      "execution_count": 3,
      "outputs": []
    },
    {
      "cell_type": "code",
      "metadata": {
        "id": "vcR9xh1IMs8y"
      },
      "source": [
        "rest_names = df.groupby('name').count().sort_values('rating',ascending = False).head(20).index.to_list()\r\n",
        "df = df[df.name.isin(rest_names)]\r\n",
        "df['rating'] = df['rating'].astype('float')\r\n",
        "df['date'] = pd.to_datetime(df['date'])\r\n",
        "df['cust_rating'] = df['cust_rating'].astype('float')\r\n",
        "df['review'] = df['review'].astype('string')\r\n",
        "df['sentiment'] = df['sentiment'].astype('float').round(2)"
      ],
      "execution_count": 4,
      "outputs": []
    },
    {
      "cell_type": "markdown",
      "metadata": {
        "id": "HrleqUjIYljL"
      },
      "source": [
        "#Emotion Detection (Plutchik, ekman, poms)"
      ]
    },
    {
      "cell_type": "code",
      "metadata": {
        "id": "z_Srh3_ZjFFK"
      },
      "source": [
        "sc = open(\"req.txt\",\"w\")\r\n",
        "sc.write('''h5py==2.9.0\r\n",
        "Keras==1.1.0\r\n",
        "numpy==1.16.0\r\n",
        "pandas==1.1.5\r\n",
        "python-dateutil==2.8.0\r\n",
        "pytz==2018.9\r\n",
        "PyYAML==5.1\r\n",
        "scipy==1.2.1\r\n",
        "six==1.12.0\r\n",
        "Theano==1.0.4''')\r\n",
        "sc.close()"
      ],
      "execution_count": null,
      "outputs": []
    },
    {
      "cell_type": "code",
      "metadata": {
        "id": "DJlCyGrGjZeI",
        "colab": {
          "base_uri": "https://localhost:8080/"
        },
        "outputId": "18a48807-b410-465b-bf64-f346ee02e483"
      },
      "source": [
        "!pip install -r req.txt -q"
      ],
      "execution_count": null,
      "outputs": [
        {
          "output_type": "stream",
          "text": [
            "\u001b[K     |████████████████████████████████| 2.8MB 7.7MB/s \n",
            "\u001b[K     |████████████████████████████████| 153kB 28.9MB/s \n",
            "\u001b[K     |████████████████████████████████| 17.3MB 248kB/s \n",
            "\u001b[K     |████████████████████████████████| 235kB 57.8MB/s \n",
            "\u001b[K     |████████████████████████████████| 276kB 56.7MB/s \n",
            "\u001b[K     |████████████████████████████████| 24.8MB 1.2MB/s eta 0:00:01\n",
            "\u001b[31mERROR: Operation cancelled by user\u001b[0m\n",
            "\u001b[?25h"
          ],
          "name": "stdout"
        }
      ]
    },
    {
      "cell_type": "code",
      "metadata": {
        "id": "RPfTvpS3ekQm",
        "colab": {
          "base_uri": "https://localhost:8080/"
        },
        "outputId": "a5c5ea75-f88d-4605-9dc3-a11a8456a8a7"
      },
      "source": [
        "pip install --upgrade pandas"
      ],
      "execution_count": null,
      "outputs": [
        {
          "output_type": "stream",
          "text": [
            "Requirement already up-to-date: pandas in /usr/local/lib/python3.6/dist-packages (1.1.5)\n",
            "Requirement already satisfied, skipping upgrade: pytz>=2017.2 in /usr/local/lib/python3.6/dist-packages (from pandas) (2018.9)\n",
            "Requirement already satisfied, skipping upgrade: numpy>=1.15.4 in /usr/local/lib/python3.6/dist-packages (from pandas) (1.19.5)\n",
            "Requirement already satisfied, skipping upgrade: python-dateutil>=2.7.3 in /usr/local/lib/python3.6/dist-packages (from pandas) (2.8.1)\n",
            "Requirement already satisfied, skipping upgrade: six>=1.5 in /usr/local/lib/python3.6/dist-packages (from python-dateutil>=2.7.3->pandas) (1.15.0)\n"
          ],
          "name": "stdout"
        }
      ]
    },
    {
      "cell_type": "code",
      "metadata": {
        "id": "IWpdrxlEj5sC"
      },
      "source": [
        "# !pip freeze > req.txt\r\n",
        "# !pip uninstall -r req.txt -y -q"
      ],
      "execution_count": null,
      "outputs": []
    },
    {
      "cell_type": "code",
      "metadata": {
        "id": "p0pI_cykLoRs"
      },
      "source": [
        "import os;\r\n",
        "os.environ['KERAS_BACKEND'] = 'theano'\r\n",
        "import html\r\n",
        "import pickle\r\n",
        "import re\r\n",
        "\r\n",
        "import pandas as pd\r\n",
        "from keras import backend as K\r\n",
        "from keras.models import load_model\r\n",
        "from keras.preprocessing import sequence\r\n",
        "\r\n",
        "import requests\r\n",
        "\r\n",
        "class EmotionPredictor:\r\n",
        "    def __init__(self, classification, setting, use_unison_model=True):\r\n",
        "        \"\"\"\r\n",
        "        Args:\r\n",
        "            classification (str): Either 'ekman', 'plutchik', 'poms'\r\n",
        "                or 'unison'.\r\n",
        "            setting (str): Either 'mc' or 'ml'.\r\n",
        "            use_unison_model (bool): Whether to use unison model;\r\n",
        "                else use single model.\r\n",
        "        \"\"\"\r\n",
        "        if classification not in ['ekman', 'plutchik', 'poms', 'unison']:\r\n",
        "            raise ValueError('Unknown emotion classification: {}'.format(\r\n",
        "                classification))\r\n",
        "        if setting not in ['mc', 'ml']:\r\n",
        "            raise ValueError('Unknown setting: {}'.format(setting))\r\n",
        "\r\n",
        "        self.classification = classification\r\n",
        "        self.setting = setting\r\n",
        "        self.use_unison_model = use_unison_model\r\n",
        "        self.model = self._get_model()\r\n",
        "        self.embeddings_model = self._get_embeddings_model()\r\n",
        "        self.char_to_ind = self._get_char_mapping()\r\n",
        "        self.class_values = self._get_class_values()\r\n",
        "        self.max_len = self._get_max_sequence_length()\r\n",
        "        self.name = classification +\"-\"+setting\r\n",
        "\r\n",
        "    def _download_model(self,file_name):\r\n",
        "        dir = \"https://github.com/AbshkPskr/Emotion-recognition/blob/master/models/\"\r\n",
        "        r = requests.get(dir+ file_name+\"?raw=true\")\r\n",
        "        with open(file_name, 'wb') as f:\r\n",
        "            f.write(r.content)\r\n",
        "\r\n",
        "    def _get_model(self):\r\n",
        "        self._loaded_model_filename = '{}{}-{}.h5'.format(\r\n",
        "            'unison-' if self.use_unison_model else '',\r\n",
        "            self.classification,\r\n",
        "            self.setting,\r\n",
        "        )\r\n",
        "        name = self._loaded_model_filename\r\n",
        "        self._download_model(name)\r\n",
        "        return load_model(self._loaded_model_filename)\r\n",
        "\r\n",
        "    def _get_embeddings_model(self):\r\n",
        "        last_layer_output = K.function([self.model.layers[0].input,\r\n",
        "                                        K.learning_phase()],\r\n",
        "                                       [self.model.layers[-3].output])\r\n",
        "        return lambda x: last_layer_output([x, 0])[0]\r\n",
        "\r\n",
        "    def _get_char_mapping(self):\r\n",
        "        self._download_model('allowed-chars.pkl')\r\n",
        "        with open('allowed-chars.pkl', 'rb') as f:\r\n",
        "            return pickle.load(f)\r\n",
        "\r\n",
        "    def _get_class_values(self):\r\n",
        "        if self.classification == 'ekman':\r\n",
        "            return ['Anger', 'Disgust', 'Fear', 'Joy', 'Sadness', 'Surprise']\r\n",
        "        elif self.classification == 'plutchik':\r\n",
        "            return ['Anger', 'Disgust', 'Fear', 'Joy', 'Sadness', 'Surprise',\r\n",
        "                    'Trust', 'Anticipation']\r\n",
        "        elif self.classification == 'poms':\r\n",
        "            return ['Anger', 'Depression', 'Fatigue', 'Vigour', 'Tension',\r\n",
        "                    'Confusion']\r\n",
        "\r\n",
        "    def _get_max_sequence_length(self):\r\n",
        "        if self.use_unison_model or self.classification == 'poms':\r\n",
        "            return 143\r\n",
        "        elif self.classification in ['ekman', 'plutchik']:\r\n",
        "            return 141\r\n",
        "\r\n",
        "    def predict_classes(self, tweets):\r\n",
        "        indices = self._tweet_to_indices(tweets)\r\n",
        "        predictions = self.model.predict(indices, verbose=False)\r\n",
        "\r\n",
        "        df = pd.DataFrame({'Text': tweets})\r\n",
        "        if self.setting == 'mc':\r\n",
        "            df['Emotion'] = [self.class_values[i] for i in\r\n",
        "                        predictions.argmax(axis=-1)]\r\n",
        "        else:\r\n",
        "            predictions[predictions >= 0.5] = 1\r\n",
        "            predictions[predictions < 0.5] = 0\r\n",
        "            for emotion, values in zip(self.class_values, predictions.T):\r\n",
        "                df[emotion] = values\r\n",
        "        return df\r\n",
        "\r\n",
        "    def predict_probabilities(self, tweets):\r\n",
        "        indices = self._tweet_to_indices(tweets)\r\n",
        "        predictions = self.model.predict(indices, verbose=False)\r\n",
        "\r\n",
        "        df = pd.DataFrame({'Tweet': tweets})\r\n",
        "        for emotion, values in zip(self.class_values, predictions.T):\r\n",
        "            df[emotion] = values\r\n",
        "        return df\r\n",
        "\r\n",
        "    def embed(self, tweets):\r\n",
        "        indices = self._tweet_to_indices(tweets)\r\n",
        "        embeddings = self.embeddings_model(indices)\r\n",
        "\r\n",
        "        df = pd.DataFrame({'Tweet': tweets})\r\n",
        "        for index, values in enumerate(embeddings.T, start=1):\r\n",
        "            df['Dim{}'.format(index)] = values\r\n",
        "        return df\r\n",
        "\r\n",
        "    def embedd(self, tweets):\r\n",
        "        \"\"\" Here only for backwards compatibility. \"\"\"\r\n",
        "        return self.embed(tweets)\r\n",
        "\r\n",
        "    def _tweet_to_indices(self, tweets):\r\n",
        "        indices = []\r\n",
        "        for t in tweets:\r\n",
        "            t = html.unescape(t)                            # unescape HTML\r\n",
        "            t = re.sub(r\"http\\S+\", \"\", t)                   # remove normal URLS\r\n",
        "            t = re.sub(r\"pic\\.twitter\\.com/\\S+\", \"\", t)     # remove pic.twitter.com URLS\r\n",
        "            indices.append([self.char_to_ind[char] for char in t])\r\n",
        "        return sequence.pad_sequences(indices, maxlen=self.max_len)"
      ],
      "execution_count": null,
      "outputs": []
    },
    {
      "cell_type": "code",
      "metadata": {
        "id": "tkr6-p_PrClx",
        "colab": {
          "base_uri": "https://localhost:8080/",
          "height": 397
        },
        "outputId": "023cab8d-64e0-4d34-c31a-c5ffec8ebbfd"
      },
      "source": [
        "models = []\r\n",
        "models.append(EmotionPredictor(classification='plutchik', setting='mc', use_unison_model=False))\r\n",
        "models.append(EmotionPredictor(classification='plutchik', setting='ml', use_unison_model=False))\r\n",
        "models.append(EmotionPredictor(classification='ekman', setting='mc', use_unison_model=False))\r\n",
        "models.append(EmotionPredictor(classification='ekman', setting='ml', use_unison_model=False))\r\n",
        "models.append(EmotionPredictor(classification='poms', setting='mc', use_unison_model=False))\r\n",
        "models.append(EmotionPredictor(classification='poms', setting='ml', use_unison_model=False))"
      ],
      "execution_count": null,
      "outputs": [
        {
          "output_type": "error",
          "ename": "ValueError",
          "evalue": "ignored",
          "traceback": [
            "\u001b[0;31m---------------------------------------------------------------------------\u001b[0m",
            "\u001b[0;31mValueError\u001b[0m                                Traceback (most recent call last)",
            "\u001b[0;32m<ipython-input-9-53cc2d6102a3>\u001b[0m in \u001b[0;36m<module>\u001b[0;34m()\u001b[0m\n\u001b[1;32m      1\u001b[0m \u001b[0mmodels\u001b[0m \u001b[0;34m=\u001b[0m \u001b[0;34m[\u001b[0m\u001b[0;34m]\u001b[0m\u001b[0;34m\u001b[0m\u001b[0;34m\u001b[0m\u001b[0m\n\u001b[0;32m----> 2\u001b[0;31m \u001b[0mmodels\u001b[0m\u001b[0;34m.\u001b[0m\u001b[0mappend\u001b[0m\u001b[0;34m(\u001b[0m\u001b[0mEmotionPredictor\u001b[0m\u001b[0;34m(\u001b[0m\u001b[0mclassification\u001b[0m\u001b[0;34m=\u001b[0m\u001b[0;34m'plutchik'\u001b[0m\u001b[0;34m,\u001b[0m \u001b[0msetting\u001b[0m\u001b[0;34m=\u001b[0m\u001b[0;34m'mc'\u001b[0m\u001b[0;34m,\u001b[0m \u001b[0muse_unison_model\u001b[0m\u001b[0;34m=\u001b[0m\u001b[0;32mFalse\u001b[0m\u001b[0;34m)\u001b[0m\u001b[0;34m)\u001b[0m\u001b[0;34m\u001b[0m\u001b[0;34m\u001b[0m\u001b[0m\n\u001b[0m\u001b[1;32m      3\u001b[0m \u001b[0mmodels\u001b[0m\u001b[0;34m.\u001b[0m\u001b[0mappend\u001b[0m\u001b[0;34m(\u001b[0m\u001b[0mEmotionPredictor\u001b[0m\u001b[0;34m(\u001b[0m\u001b[0mclassification\u001b[0m\u001b[0;34m=\u001b[0m\u001b[0;34m'plutchik'\u001b[0m\u001b[0;34m,\u001b[0m \u001b[0msetting\u001b[0m\u001b[0;34m=\u001b[0m\u001b[0;34m'ml'\u001b[0m\u001b[0;34m,\u001b[0m \u001b[0muse_unison_model\u001b[0m\u001b[0;34m=\u001b[0m\u001b[0;32mFalse\u001b[0m\u001b[0;34m)\u001b[0m\u001b[0;34m)\u001b[0m\u001b[0;34m\u001b[0m\u001b[0;34m\u001b[0m\u001b[0m\n\u001b[1;32m      4\u001b[0m \u001b[0mmodels\u001b[0m\u001b[0;34m.\u001b[0m\u001b[0mappend\u001b[0m\u001b[0;34m(\u001b[0m\u001b[0mEmotionPredictor\u001b[0m\u001b[0;34m(\u001b[0m\u001b[0mclassification\u001b[0m\u001b[0;34m=\u001b[0m\u001b[0;34m'ekman'\u001b[0m\u001b[0;34m,\u001b[0m \u001b[0msetting\u001b[0m\u001b[0;34m=\u001b[0m\u001b[0;34m'mc'\u001b[0m\u001b[0;34m,\u001b[0m \u001b[0muse_unison_model\u001b[0m\u001b[0;34m=\u001b[0m\u001b[0;32mFalse\u001b[0m\u001b[0;34m)\u001b[0m\u001b[0;34m)\u001b[0m\u001b[0;34m\u001b[0m\u001b[0;34m\u001b[0m\u001b[0m\n\u001b[1;32m      5\u001b[0m \u001b[0mmodels\u001b[0m\u001b[0;34m.\u001b[0m\u001b[0mappend\u001b[0m\u001b[0;34m(\u001b[0m\u001b[0mEmotionPredictor\u001b[0m\u001b[0;34m(\u001b[0m\u001b[0mclassification\u001b[0m\u001b[0;34m=\u001b[0m\u001b[0;34m'ekman'\u001b[0m\u001b[0;34m,\u001b[0m \u001b[0msetting\u001b[0m\u001b[0;34m=\u001b[0m\u001b[0;34m'ml'\u001b[0m\u001b[0;34m,\u001b[0m \u001b[0muse_unison_model\u001b[0m\u001b[0;34m=\u001b[0m\u001b[0;32mFalse\u001b[0m\u001b[0;34m)\u001b[0m\u001b[0;34m)\u001b[0m\u001b[0;34m\u001b[0m\u001b[0;34m\u001b[0m\u001b[0m\n",
            "\u001b[0;32m<ipython-input-8-1137d95f94c4>\u001b[0m in \u001b[0;36m__init__\u001b[0;34m(self, classification, setting, use_unison_model)\u001b[0m\n\u001b[1;32m     31\u001b[0m         \u001b[0mself\u001b[0m\u001b[0;34m.\u001b[0m\u001b[0msetting\u001b[0m \u001b[0;34m=\u001b[0m \u001b[0msetting\u001b[0m\u001b[0;34m\u001b[0m\u001b[0;34m\u001b[0m\u001b[0m\n\u001b[1;32m     32\u001b[0m         \u001b[0mself\u001b[0m\u001b[0;34m.\u001b[0m\u001b[0muse_unison_model\u001b[0m \u001b[0;34m=\u001b[0m \u001b[0muse_unison_model\u001b[0m\u001b[0;34m\u001b[0m\u001b[0;34m\u001b[0m\u001b[0m\n\u001b[0;32m---> 33\u001b[0;31m         \u001b[0mself\u001b[0m\u001b[0;34m.\u001b[0m\u001b[0mmodel\u001b[0m \u001b[0;34m=\u001b[0m \u001b[0mself\u001b[0m\u001b[0;34m.\u001b[0m\u001b[0m_get_model\u001b[0m\u001b[0;34m(\u001b[0m\u001b[0;34m)\u001b[0m\u001b[0;34m\u001b[0m\u001b[0;34m\u001b[0m\u001b[0m\n\u001b[0m\u001b[1;32m     34\u001b[0m         \u001b[0mself\u001b[0m\u001b[0;34m.\u001b[0m\u001b[0membeddings_model\u001b[0m \u001b[0;34m=\u001b[0m \u001b[0mself\u001b[0m\u001b[0;34m.\u001b[0m\u001b[0m_get_embeddings_model\u001b[0m\u001b[0;34m(\u001b[0m\u001b[0;34m)\u001b[0m\u001b[0;34m\u001b[0m\u001b[0;34m\u001b[0m\u001b[0m\n\u001b[1;32m     35\u001b[0m         \u001b[0mself\u001b[0m\u001b[0;34m.\u001b[0m\u001b[0mchar_to_ind\u001b[0m \u001b[0;34m=\u001b[0m \u001b[0mself\u001b[0m\u001b[0;34m.\u001b[0m\u001b[0m_get_char_mapping\u001b[0m\u001b[0;34m(\u001b[0m\u001b[0;34m)\u001b[0m\u001b[0;34m\u001b[0m\u001b[0;34m\u001b[0m\u001b[0m\n",
            "\u001b[0;32m<ipython-input-8-1137d95f94c4>\u001b[0m in \u001b[0;36m_get_model\u001b[0;34m(self)\u001b[0m\n\u001b[1;32m     52\u001b[0m         \u001b[0mname\u001b[0m \u001b[0;34m=\u001b[0m \u001b[0mself\u001b[0m\u001b[0;34m.\u001b[0m\u001b[0m_loaded_model_filename\u001b[0m\u001b[0;34m\u001b[0m\u001b[0;34m\u001b[0m\u001b[0m\n\u001b[1;32m     53\u001b[0m         \u001b[0mself\u001b[0m\u001b[0;34m.\u001b[0m\u001b[0m_download_model\u001b[0m\u001b[0;34m(\u001b[0m\u001b[0mname\u001b[0m\u001b[0;34m)\u001b[0m\u001b[0;34m\u001b[0m\u001b[0;34m\u001b[0m\u001b[0m\n\u001b[0;32m---> 54\u001b[0;31m         \u001b[0;32mreturn\u001b[0m \u001b[0mload_model\u001b[0m\u001b[0;34m(\u001b[0m\u001b[0mself\u001b[0m\u001b[0;34m.\u001b[0m\u001b[0m_loaded_model_filename\u001b[0m\u001b[0;34m)\u001b[0m\u001b[0;34m\u001b[0m\u001b[0;34m\u001b[0m\u001b[0m\n\u001b[0m\u001b[1;32m     55\u001b[0m \u001b[0;34m\u001b[0m\u001b[0m\n\u001b[1;32m     56\u001b[0m     \u001b[0;32mdef\u001b[0m \u001b[0m_get_embeddings_model\u001b[0m\u001b[0;34m(\u001b[0m\u001b[0mself\u001b[0m\u001b[0;34m)\u001b[0m\u001b[0;34m:\u001b[0m\u001b[0;34m\u001b[0m\u001b[0;34m\u001b[0m\u001b[0m\n",
            "\u001b[0;32m/usr/local/lib/python3.6/dist-packages/tensorflow/python/keras/saving/save.py\u001b[0m in \u001b[0;36mload_model\u001b[0;34m(filepath, custom_objects, compile, options)\u001b[0m\n\u001b[1;32m    205\u001b[0m           (isinstance(filepath, h5py.File) or h5py.is_hdf5(filepath))):\n\u001b[1;32m    206\u001b[0m         return hdf5_format.load_model_from_hdf5(filepath, custom_objects,\n\u001b[0;32m--> 207\u001b[0;31m                                                 compile)\n\u001b[0m\u001b[1;32m    208\u001b[0m \u001b[0;34m\u001b[0m\u001b[0m\n\u001b[1;32m    209\u001b[0m       \u001b[0mfilepath\u001b[0m \u001b[0;34m=\u001b[0m \u001b[0mpath_to_string\u001b[0m\u001b[0;34m(\u001b[0m\u001b[0mfilepath\u001b[0m\u001b[0;34m)\u001b[0m\u001b[0;34m\u001b[0m\u001b[0;34m\u001b[0m\u001b[0m\n",
            "\u001b[0;32m/usr/local/lib/python3.6/dist-packages/tensorflow/python/keras/saving/hdf5_format.py\u001b[0m in \u001b[0;36mload_model_from_hdf5\u001b[0;34m(filepath, custom_objects, compile)\u001b[0m\n\u001b[1;32m    182\u001b[0m     \u001b[0mmodel_config\u001b[0m \u001b[0;34m=\u001b[0m \u001b[0mjson_utils\u001b[0m\u001b[0;34m.\u001b[0m\u001b[0mdecode\u001b[0m\u001b[0;34m(\u001b[0m\u001b[0mmodel_config\u001b[0m\u001b[0;34m.\u001b[0m\u001b[0mdecode\u001b[0m\u001b[0;34m(\u001b[0m\u001b[0;34m'utf-8'\u001b[0m\u001b[0;34m)\u001b[0m\u001b[0;34m)\u001b[0m\u001b[0;34m\u001b[0m\u001b[0;34m\u001b[0m\u001b[0m\n\u001b[1;32m    183\u001b[0m     model = model_config_lib.model_from_config(model_config,\n\u001b[0;32m--> 184\u001b[0;31m                                                custom_objects=custom_objects)\n\u001b[0m\u001b[1;32m    185\u001b[0m \u001b[0;34m\u001b[0m\u001b[0m\n\u001b[1;32m    186\u001b[0m     \u001b[0;31m# set weights\u001b[0m\u001b[0;34m\u001b[0m\u001b[0;34m\u001b[0m\u001b[0;34m\u001b[0m\u001b[0m\n",
            "\u001b[0;32m/usr/local/lib/python3.6/dist-packages/tensorflow/python/keras/saving/model_config.py\u001b[0m in \u001b[0;36mmodel_from_config\u001b[0;34m(config, custom_objects)\u001b[0m\n\u001b[1;32m     62\u001b[0m                     '`Sequential.from_config(config)`?')\n\u001b[1;32m     63\u001b[0m   \u001b[0;32mfrom\u001b[0m \u001b[0mtensorflow\u001b[0m\u001b[0;34m.\u001b[0m\u001b[0mpython\u001b[0m\u001b[0;34m.\u001b[0m\u001b[0mkeras\u001b[0m\u001b[0;34m.\u001b[0m\u001b[0mlayers\u001b[0m \u001b[0;32mimport\u001b[0m \u001b[0mdeserialize\u001b[0m  \u001b[0;31m# pylint: disable=g-import-not-at-top\u001b[0m\u001b[0;34m\u001b[0m\u001b[0;34m\u001b[0m\u001b[0m\n\u001b[0;32m---> 64\u001b[0;31m   \u001b[0;32mreturn\u001b[0m \u001b[0mdeserialize\u001b[0m\u001b[0;34m(\u001b[0m\u001b[0mconfig\u001b[0m\u001b[0;34m,\u001b[0m \u001b[0mcustom_objects\u001b[0m\u001b[0;34m=\u001b[0m\u001b[0mcustom_objects\u001b[0m\u001b[0;34m)\u001b[0m\u001b[0;34m\u001b[0m\u001b[0;34m\u001b[0m\u001b[0m\n\u001b[0m\u001b[1;32m     65\u001b[0m \u001b[0;34m\u001b[0m\u001b[0m\n\u001b[1;32m     66\u001b[0m \u001b[0;34m\u001b[0m\u001b[0m\n",
            "\u001b[0;32m/usr/local/lib/python3.6/dist-packages/tensorflow/python/keras/layers/serialization.py\u001b[0m in \u001b[0;36mdeserialize\u001b[0;34m(config, custom_objects)\u001b[0m\n\u001b[1;32m    175\u001b[0m       \u001b[0mmodule_objects\u001b[0m\u001b[0;34m=\u001b[0m\u001b[0mLOCAL\u001b[0m\u001b[0;34m.\u001b[0m\u001b[0mALL_OBJECTS\u001b[0m\u001b[0;34m,\u001b[0m\u001b[0;34m\u001b[0m\u001b[0;34m\u001b[0m\u001b[0m\n\u001b[1;32m    176\u001b[0m       \u001b[0mcustom_objects\u001b[0m\u001b[0;34m=\u001b[0m\u001b[0mcustom_objects\u001b[0m\u001b[0;34m,\u001b[0m\u001b[0;34m\u001b[0m\u001b[0;34m\u001b[0m\u001b[0m\n\u001b[0;32m--> 177\u001b[0;31m       printable_module_name='layer')\n\u001b[0m",
            "\u001b[0;32m/usr/local/lib/python3.6/dist-packages/tensorflow/python/keras/utils/generic_utils.py\u001b[0m in \u001b[0;36mdeserialize_keras_object\u001b[0;34m(identifier, module_objects, custom_objects, printable_module_name)\u001b[0m\n\u001b[1;32m    356\u001b[0m             custom_objects=dict(\n\u001b[1;32m    357\u001b[0m                 \u001b[0mlist\u001b[0m\u001b[0;34m(\u001b[0m\u001b[0m_GLOBAL_CUSTOM_OBJECTS\u001b[0m\u001b[0;34m.\u001b[0m\u001b[0mitems\u001b[0m\u001b[0;34m(\u001b[0m\u001b[0;34m)\u001b[0m\u001b[0;34m)\u001b[0m \u001b[0;34m+\u001b[0m\u001b[0;34m\u001b[0m\u001b[0;34m\u001b[0m\u001b[0m\n\u001b[0;32m--> 358\u001b[0;31m                 list(custom_objects.items())))\n\u001b[0m\u001b[1;32m    359\u001b[0m       \u001b[0;32mwith\u001b[0m \u001b[0mCustomObjectScope\u001b[0m\u001b[0;34m(\u001b[0m\u001b[0mcustom_objects\u001b[0m\u001b[0;34m)\u001b[0m\u001b[0;34m:\u001b[0m\u001b[0;34m\u001b[0m\u001b[0;34m\u001b[0m\u001b[0m\n\u001b[1;32m    360\u001b[0m         \u001b[0;32mreturn\u001b[0m \u001b[0mcls\u001b[0m\u001b[0;34m.\u001b[0m\u001b[0mfrom_config\u001b[0m\u001b[0;34m(\u001b[0m\u001b[0mcls_config\u001b[0m\u001b[0;34m)\u001b[0m\u001b[0;34m\u001b[0m\u001b[0;34m\u001b[0m\u001b[0m\n",
            "\u001b[0;32m/usr/local/lib/python3.6/dist-packages/tensorflow/python/keras/engine/training.py\u001b[0m in \u001b[0;36mfrom_config\u001b[0;34m(cls, config, custom_objects)\u001b[0m\n\u001b[1;32m   2260\u001b[0m     \u001b[0;32mfrom\u001b[0m \u001b[0mtensorflow\u001b[0m\u001b[0;34m.\u001b[0m\u001b[0mpython\u001b[0m\u001b[0;34m.\u001b[0m\u001b[0mkeras\u001b[0m\u001b[0;34m.\u001b[0m\u001b[0mengine\u001b[0m \u001b[0;32mimport\u001b[0m \u001b[0mfunctional\u001b[0m  \u001b[0;31m# pylint: disable=g-import-not-at-top\u001b[0m\u001b[0;34m\u001b[0m\u001b[0;34m\u001b[0m\u001b[0m\n\u001b[1;32m   2261\u001b[0m     return functional.Functional.from_config(\n\u001b[0;32m-> 2262\u001b[0;31m         config, custom_objects=custom_objects)\n\u001b[0m\u001b[1;32m   2263\u001b[0m \u001b[0;34m\u001b[0m\u001b[0m\n\u001b[1;32m   2264\u001b[0m   \u001b[0;32mdef\u001b[0m \u001b[0mto_json\u001b[0m\u001b[0;34m(\u001b[0m\u001b[0mself\u001b[0m\u001b[0;34m,\u001b[0m \u001b[0;34m**\u001b[0m\u001b[0mkwargs\u001b[0m\u001b[0;34m)\u001b[0m\u001b[0;34m:\u001b[0m\u001b[0;34m\u001b[0m\u001b[0;34m\u001b[0m\u001b[0m\n",
            "\u001b[0;32m/usr/local/lib/python3.6/dist-packages/tensorflow/python/keras/engine/functional.py\u001b[0m in \u001b[0;36mfrom_config\u001b[0;34m(cls, config, custom_objects)\u001b[0m\n\u001b[1;32m    667\u001b[0m     \"\"\"\n\u001b[1;32m    668\u001b[0m     input_tensors, output_tensors, created_layers = reconstruct_from_config(\n\u001b[0;32m--> 669\u001b[0;31m         config, custom_objects)\n\u001b[0m\u001b[1;32m    670\u001b[0m     model = cls(inputs=input_tensors, outputs=output_tensors,\n\u001b[1;32m    671\u001b[0m                 name=config.get('name'))\n",
            "\u001b[0;32m/usr/local/lib/python3.6/dist-packages/tensorflow/python/keras/engine/functional.py\u001b[0m in \u001b[0;36mreconstruct_from_config\u001b[0;34m(config, custom_objects, created_layers)\u001b[0m\n\u001b[1;32m   1273\u001b[0m   \u001b[0;31m# First, we create all layers and enqueue nodes to be processed\u001b[0m\u001b[0;34m\u001b[0m\u001b[0;34m\u001b[0m\u001b[0;34m\u001b[0m\u001b[0m\n\u001b[1;32m   1274\u001b[0m   \u001b[0;32mfor\u001b[0m \u001b[0mlayer_data\u001b[0m \u001b[0;32min\u001b[0m \u001b[0mconfig\u001b[0m\u001b[0;34m[\u001b[0m\u001b[0;34m'layers'\u001b[0m\u001b[0;34m]\u001b[0m\u001b[0;34m:\u001b[0m\u001b[0;34m\u001b[0m\u001b[0;34m\u001b[0m\u001b[0m\n\u001b[0;32m-> 1275\u001b[0;31m     \u001b[0mprocess_layer\u001b[0m\u001b[0;34m(\u001b[0m\u001b[0mlayer_data\u001b[0m\u001b[0;34m)\u001b[0m\u001b[0;34m\u001b[0m\u001b[0;34m\u001b[0m\u001b[0m\n\u001b[0m\u001b[1;32m   1276\u001b[0m   \u001b[0;31m# Then we process nodes in order of layer depth.\u001b[0m\u001b[0;34m\u001b[0m\u001b[0;34m\u001b[0m\u001b[0;34m\u001b[0m\u001b[0m\n\u001b[1;32m   1277\u001b[0m   \u001b[0;31m# Nodes that cannot yet be processed (if the inbound node\u001b[0m\u001b[0;34m\u001b[0m\u001b[0;34m\u001b[0m\u001b[0;34m\u001b[0m\u001b[0m\n",
            "\u001b[0;32m/usr/local/lib/python3.6/dist-packages/tensorflow/python/keras/engine/functional.py\u001b[0m in \u001b[0;36mprocess_layer\u001b[0;34m(layer_data)\u001b[0m\n\u001b[1;32m   1255\u001b[0m       \u001b[0;32mfrom\u001b[0m \u001b[0mtensorflow\u001b[0m\u001b[0;34m.\u001b[0m\u001b[0mpython\u001b[0m\u001b[0;34m.\u001b[0m\u001b[0mkeras\u001b[0m\u001b[0;34m.\u001b[0m\u001b[0mlayers\u001b[0m \u001b[0;32mimport\u001b[0m \u001b[0mdeserialize\u001b[0m \u001b[0;32mas\u001b[0m \u001b[0mdeserialize_layer\u001b[0m  \u001b[0;31m# pylint: disable=g-import-not-at-top\u001b[0m\u001b[0;34m\u001b[0m\u001b[0;34m\u001b[0m\u001b[0m\n\u001b[1;32m   1256\u001b[0m \u001b[0;34m\u001b[0m\u001b[0m\n\u001b[0;32m-> 1257\u001b[0;31m       \u001b[0mlayer\u001b[0m \u001b[0;34m=\u001b[0m \u001b[0mdeserialize_layer\u001b[0m\u001b[0;34m(\u001b[0m\u001b[0mlayer_data\u001b[0m\u001b[0;34m,\u001b[0m \u001b[0mcustom_objects\u001b[0m\u001b[0;34m=\u001b[0m\u001b[0mcustom_objects\u001b[0m\u001b[0;34m)\u001b[0m\u001b[0;34m\u001b[0m\u001b[0;34m\u001b[0m\u001b[0m\n\u001b[0m\u001b[1;32m   1258\u001b[0m       \u001b[0mcreated_layers\u001b[0m\u001b[0;34m[\u001b[0m\u001b[0mlayer_name\u001b[0m\u001b[0;34m]\u001b[0m \u001b[0;34m=\u001b[0m \u001b[0mlayer\u001b[0m\u001b[0;34m\u001b[0m\u001b[0;34m\u001b[0m\u001b[0m\n\u001b[1;32m   1259\u001b[0m \u001b[0;34m\u001b[0m\u001b[0m\n",
            "\u001b[0;32m/usr/local/lib/python3.6/dist-packages/tensorflow/python/keras/layers/serialization.py\u001b[0m in \u001b[0;36mdeserialize\u001b[0;34m(config, custom_objects)\u001b[0m\n\u001b[1;32m    175\u001b[0m       \u001b[0mmodule_objects\u001b[0m\u001b[0;34m=\u001b[0m\u001b[0mLOCAL\u001b[0m\u001b[0;34m.\u001b[0m\u001b[0mALL_OBJECTS\u001b[0m\u001b[0;34m,\u001b[0m\u001b[0;34m\u001b[0m\u001b[0;34m\u001b[0m\u001b[0m\n\u001b[1;32m    176\u001b[0m       \u001b[0mcustom_objects\u001b[0m\u001b[0;34m=\u001b[0m\u001b[0mcustom_objects\u001b[0m\u001b[0;34m,\u001b[0m\u001b[0;34m\u001b[0m\u001b[0;34m\u001b[0m\u001b[0m\n\u001b[0;32m--> 177\u001b[0;31m       printable_module_name='layer')\n\u001b[0m",
            "\u001b[0;32m/usr/local/lib/python3.6/dist-packages/tensorflow/python/keras/utils/generic_utils.py\u001b[0m in \u001b[0;36mdeserialize_keras_object\u001b[0;34m(identifier, module_objects, custom_objects, printable_module_name)\u001b[0m\n\u001b[1;32m    358\u001b[0m                 list(custom_objects.items())))\n\u001b[1;32m    359\u001b[0m       \u001b[0;32mwith\u001b[0m \u001b[0mCustomObjectScope\u001b[0m\u001b[0;34m(\u001b[0m\u001b[0mcustom_objects\u001b[0m\u001b[0;34m)\u001b[0m\u001b[0;34m:\u001b[0m\u001b[0;34m\u001b[0m\u001b[0;34m\u001b[0m\u001b[0m\n\u001b[0;32m--> 360\u001b[0;31m         \u001b[0;32mreturn\u001b[0m \u001b[0mcls\u001b[0m\u001b[0;34m.\u001b[0m\u001b[0mfrom_config\u001b[0m\u001b[0;34m(\u001b[0m\u001b[0mcls_config\u001b[0m\u001b[0;34m)\u001b[0m\u001b[0;34m\u001b[0m\u001b[0;34m\u001b[0m\u001b[0m\n\u001b[0m\u001b[1;32m    361\u001b[0m     \u001b[0;32melse\u001b[0m\u001b[0;34m:\u001b[0m\u001b[0;34m\u001b[0m\u001b[0;34m\u001b[0m\u001b[0m\n\u001b[1;32m    362\u001b[0m       \u001b[0;31m# Then `cls` may be a function returning a class.\u001b[0m\u001b[0;34m\u001b[0m\u001b[0;34m\u001b[0m\u001b[0;34m\u001b[0m\u001b[0m\n",
            "\u001b[0;32m/usr/local/lib/python3.6/dist-packages/tensorflow/python/keras/engine/base_layer.py\u001b[0m in \u001b[0;36mfrom_config\u001b[0;34m(cls, config)\u001b[0m\n\u001b[1;32m    718\u001b[0m         \u001b[0mA\u001b[0m \u001b[0mlayer\u001b[0m \u001b[0minstance\u001b[0m\u001b[0;34m.\u001b[0m\u001b[0;34m\u001b[0m\u001b[0;34m\u001b[0m\u001b[0m\n\u001b[1;32m    719\u001b[0m     \"\"\"\n\u001b[0;32m--> 720\u001b[0;31m     \u001b[0;32mreturn\u001b[0m \u001b[0mcls\u001b[0m\u001b[0;34m(\u001b[0m\u001b[0;34m**\u001b[0m\u001b[0mconfig\u001b[0m\u001b[0;34m)\u001b[0m\u001b[0;34m\u001b[0m\u001b[0;34m\u001b[0m\u001b[0m\n\u001b[0m\u001b[1;32m    721\u001b[0m \u001b[0;34m\u001b[0m\u001b[0m\n\u001b[1;32m    722\u001b[0m   \u001b[0;32mdef\u001b[0m \u001b[0mcompute_output_shape\u001b[0m\u001b[0;34m(\u001b[0m\u001b[0mself\u001b[0m\u001b[0;34m,\u001b[0m \u001b[0minput_shape\u001b[0m\u001b[0;34m)\u001b[0m\u001b[0;34m:\u001b[0m\u001b[0;34m\u001b[0m\u001b[0;34m\u001b[0m\u001b[0m\n",
            "\u001b[0;32m/usr/local/lib/python3.6/dist-packages/tensorflow/python/keras/engine/input_layer.py\u001b[0m in \u001b[0;36m__init__\u001b[0;34m(self, input_shape, batch_size, dtype, input_tensor, sparse, name, ragged, **kwargs)\u001b[0m\n\u001b[1;32m    116\u001b[0m       \u001b[0minput_shape\u001b[0m \u001b[0;34m=\u001b[0m \u001b[0mbatch_input_shape\u001b[0m\u001b[0;34m[\u001b[0m\u001b[0;36m1\u001b[0m\u001b[0;34m:\u001b[0m\u001b[0;34m]\u001b[0m\u001b[0;34m\u001b[0m\u001b[0;34m\u001b[0m\u001b[0m\n\u001b[1;32m    117\u001b[0m     \u001b[0;32mif\u001b[0m \u001b[0mkwargs\u001b[0m\u001b[0;34m:\u001b[0m\u001b[0;34m\u001b[0m\u001b[0;34m\u001b[0m\u001b[0m\n\u001b[0;32m--> 118\u001b[0;31m       \u001b[0;32mraise\u001b[0m \u001b[0mValueError\u001b[0m\u001b[0;34m(\u001b[0m\u001b[0;34m'Unrecognized keyword arguments:'\u001b[0m\u001b[0;34m,\u001b[0m \u001b[0mkwargs\u001b[0m\u001b[0;34m.\u001b[0m\u001b[0mkeys\u001b[0m\u001b[0;34m(\u001b[0m\u001b[0;34m)\u001b[0m\u001b[0;34m)\u001b[0m\u001b[0;34m\u001b[0m\u001b[0;34m\u001b[0m\u001b[0m\n\u001b[0m\u001b[1;32m    119\u001b[0m \u001b[0;34m\u001b[0m\u001b[0m\n\u001b[1;32m    120\u001b[0m     \u001b[0;32mif\u001b[0m \u001b[0msparse\u001b[0m \u001b[0;32mand\u001b[0m \u001b[0mragged\u001b[0m\u001b[0;34m:\u001b[0m\u001b[0;34m\u001b[0m\u001b[0;34m\u001b[0m\u001b[0m\n",
            "\u001b[0;31mValueError\u001b[0m: ('Unrecognized keyword arguments:', dict_keys(['input_dtype']))"
          ]
        }
      ]
    },
    {
      "cell_type": "code",
      "metadata": {
        "id": "9xmJwFyyMwWV"
      },
      "source": [
        "for model in models:\r\n",
        "    emotion = model.predict_classes(df['review'][0:10].to_list())\r\n",
        "    emotion.to_csv(\"data-\"+model.name+\".csv\")#, mode = 'a', header = False, index=False)"
      ],
      "execution_count": null,
      "outputs": []
    },
    {
      "cell_type": "markdown",
      "metadata": {
        "id": "j_UR44D0YwYJ"
      },
      "source": [
        "#Emotion Detection (text2Emotion)"
      ]
    },
    {
      "cell_type": "code",
      "metadata": {
        "id": "CGjNS8-2ojwj"
      },
      "source": [
        "pip install text2emotion"
      ],
      "execution_count": null,
      "outputs": []
    },
    {
      "cell_type": "code",
      "metadata": {
        "id": "j8koEFM_opgy"
      },
      "source": [
        "import text2emotion as te\r\n",
        "from unidecode import unidecode\r\n",
        "from textblob import TextBlob\r\n",
        "\r\n",
        "def GetSentiment(Text):\r\n",
        "    uni_text = unidecode(Text)\r\n",
        "    analysis = TextBlob(uni_text)\r\n",
        "    sentiment = analysis.sentiment.polarity\r\n",
        "    return sentiment\r\n",
        "\r\n",
        "for rev in df['review'][0:20].to_list():\r\n",
        "    print(rev)\r\n",
        "    print(te.get_emotion(rev))\r\n",
        "    print(GetSentiment(rev), \"------------------------------------------------------------------------------------------------------------------------------------------------------------------------------------------------------------------------------------------------------------------\")"
      ],
      "execution_count": null,
      "outputs": []
    },
    {
      "cell_type": "code",
      "metadata": {
        "id": "UpM6cSX3jdP3"
      },
      "source": [
        "pd.read_csv(\"out.csv\")"
      ],
      "execution_count": null,
      "outputs": []
    },
    {
      "cell_type": "markdown",
      "metadata": {
        "id": "l6Fo60x-Y8fg"
      },
      "source": [
        "#Emotion Detection (DeepEmoji)"
      ]
    },
    {
      "cell_type": "code",
      "metadata": {
        "id": "-Vd-3QbvZARW",
        "colab": {
          "base_uri": "https://localhost:8080/"
        },
        "outputId": "4bf57cfe-7ebf-4743-d1e6-be55c875bddf"
      },
      "source": [
        "!pip3 install torch==1.0.1 -f https://download.pytorch.org/whl/cpu/stable \r\n",
        "!git clone https://github.com/huggingface/torchMoji\r\n",
        "import os\r\n",
        "os.chdir('torchMoji')\r\n",
        "# !pip3 install -e\r\n",
        "#if you restart the package, the notebook risks to crash on a loop\r\n",
        "#I did not restart and worked fine"
      ],
      "execution_count": 5,
      "outputs": [
        {
          "output_type": "stream",
          "text": [
            "Looking in links: https://download.pytorch.org/whl/cpu/stable\n",
            "Collecting torch==1.0.1\n",
            "\u001b[?25l  Downloading https://files.pythonhosted.org/packages/f7/92/1ae072a56665e36e81046d5fb8a2f39c7728c25c21df1777486c49b179ae/torch-1.0.1-cp36-cp36m-manylinux1_x86_64.whl (560.0MB)\n",
            "\u001b[K     |████████████████████████████████| 560.1MB 32kB/s \n",
            "\u001b[31mERROR: torchvision 0.8.1+cu101 has requirement torch==1.7.0, but you'll have torch 1.0.1 which is incompatible.\u001b[0m\n",
            "\u001b[?25hInstalling collected packages: torch\n",
            "  Found existing installation: torch 1.7.0+cu101\n",
            "    Uninstalling torch-1.7.0+cu101:\n",
            "      Successfully uninstalled torch-1.7.0+cu101\n",
            "y\n",
            "Successfully installed torch-1.0.1\n",
            "Cloning into 'torchMoji'...\n",
            "remote: Enumerating objects: 143, done.\u001b[K\n",
            "remote: Total 143 (delta 0), reused 0 (delta 0), pack-reused 143\u001b[K\n",
            "Receiving objects: 100% (143/143), 2.41 MiB | 5.38 MiB/s, done.\n",
            "Resolving deltas: 100% (49/49), done.\n"
          ],
          "name": "stdout"
        }
      ]
    },
    {
      "cell_type": "code",
      "metadata": {
        "id": "-JGnYYjURPPb",
        "colab": {
          "base_uri": "https://localhost:8080/"
        },
        "outputId": "08d9e14d-aef5-4d78-feae-e96ff7c701b8"
      },
      "source": [
        "!pip install emoji\r\n",
        "!pip install unidecode"
      ],
      "execution_count": 6,
      "outputs": [
        {
          "output_type": "stream",
          "text": [
            "Collecting emoji\n",
            "\u001b[?25l  Downloading https://files.pythonhosted.org/packages/24/fa/b3368f41b95a286f8d300e323449ab4e86b85334c2e0b477e94422b8ed0f/emoji-1.2.0-py3-none-any.whl (131kB)\n",
            "\r\u001b[K     |██▌                             | 10kB 11.2MB/s eta 0:00:01\r\u001b[K     |█████                           | 20kB 15.5MB/s eta 0:00:01\r\u001b[K     |███████▌                        | 30kB 16.9MB/s eta 0:00:01\r\u001b[K     |██████████                      | 40kB 10.0MB/s eta 0:00:01\r\u001b[K     |████████████▌                   | 51kB 8.8MB/s eta 0:00:01\r\u001b[K     |███████████████                 | 61kB 9.0MB/s eta 0:00:01\r\u001b[K     |█████████████████▌              | 71kB 7.6MB/s eta 0:00:01\r\u001b[K     |████████████████████            | 81kB 8.4MB/s eta 0:00:01\r\u001b[K     |██████████████████████▌         | 92kB 8.8MB/s eta 0:00:01\r\u001b[K     |█████████████████████████       | 102kB 8.9MB/s eta 0:00:01\r\u001b[K     |███████████████████████████▌    | 112kB 8.9MB/s eta 0:00:01\r\u001b[K     |██████████████████████████████  | 122kB 8.9MB/s eta 0:00:01\r\u001b[K     |████████████████████████████████| 133kB 8.9MB/s \n",
            "\u001b[?25hInstalling collected packages: emoji\n",
            "Successfully installed emoji-1.2.0\n",
            "Collecting unidecode\n",
            "\u001b[?25l  Downloading https://files.pythonhosted.org/packages/9e/25/723487ca2a52ebcee88a34d7d1f5a4b80b793f179ee0f62d5371938dfa01/Unidecode-1.2.0-py2.py3-none-any.whl (241kB)\n",
            "\u001b[K     |████████████████████████████████| 245kB 7.5MB/s \n",
            "\u001b[?25hInstalling collected packages: unidecode\n",
            "Successfully installed unidecode-1.2.0\n"
          ],
          "name": "stdout"
        }
      ]
    },
    {
      "cell_type": "code",
      "metadata": {
        "id": "J9mC_-Ipb2nC",
        "colab": {
          "base_uri": "https://localhost:8080/"
        },
        "outputId": "1b0c6a5b-ecee-4bb6-862a-cb7edb7299c1"
      },
      "source": [
        "!python3 scripts/download_weights.py"
      ],
      "execution_count": 7,
      "outputs": [
        {
          "output_type": "stream",
          "text": [
            "About to download the pretrained weights file from https://www.dropbox.com/s/q8lax9ary32c7t9/pytorch_model.bin?dl=0#\n",
            "The size of the file is roughly 85MB. Continue? [y/n]\n",
            "y\n",
            "Downloading...\n",
            "Running system call: wget https://www.dropbox.com/s/q8lax9ary32c7t9/pytorch_model.bin?dl=0# -O /content/torchMoji/model/pytorch_model.bin\n",
            "--2021-02-08 18:18:43--  https://www.dropbox.com/s/q8lax9ary32c7t9/pytorch_model.bin?dl=0\n",
            "Resolving www.dropbox.com (www.dropbox.com)... 162.125.2.18, 2620:100:6017:18::a27d:212\n",
            "Connecting to www.dropbox.com (www.dropbox.com)|162.125.2.18|:443... connected.\n",
            "HTTP request sent, awaiting response... 301 Moved Permanently\n",
            "Location: /s/raw/q8lax9ary32c7t9/pytorch_model.bin [following]\n",
            "--2021-02-08 18:18:43--  https://www.dropbox.com/s/raw/q8lax9ary32c7t9/pytorch_model.bin\n",
            "Reusing existing connection to www.dropbox.com:443.\n",
            "HTTP request sent, awaiting response... 302 Found\n",
            "Location: https://ucd2d6554069a5d02718b84dfc5e.dl.dropboxusercontent.com/cd/0/inline/BIkaEdIxnlHYgzriaTN2JpXEpFNxKHq0nJBvvdjWtMlK8GUvjNNj4ny0oEbnUfs2TM5FjS8J4EX23ftbaH-ST3JgW7uRy44cm1L7PXh2tyVyeg/file# [following]\n",
            "--2021-02-08 18:18:43--  https://ucd2d6554069a5d02718b84dfc5e.dl.dropboxusercontent.com/cd/0/inline/BIkaEdIxnlHYgzriaTN2JpXEpFNxKHq0nJBvvdjWtMlK8GUvjNNj4ny0oEbnUfs2TM5FjS8J4EX23ftbaH-ST3JgW7uRy44cm1L7PXh2tyVyeg/file\n",
            "Resolving ucd2d6554069a5d02718b84dfc5e.dl.dropboxusercontent.com (ucd2d6554069a5d02718b84dfc5e.dl.dropboxusercontent.com)... 162.125.2.15, 2620:100:6017:15::a27d:20f\n",
            "Connecting to ucd2d6554069a5d02718b84dfc5e.dl.dropboxusercontent.com (ucd2d6554069a5d02718b84dfc5e.dl.dropboxusercontent.com)|162.125.2.15|:443... connected.\n",
            "HTTP request sent, awaiting response... 302 Found\n",
            "Location: /cd/0/inline2/BIl5hjFyM7RodxWrKJc-EG64WtdKfAZwn-90i0iamUscFUfrrABJ2JldwcB7XXCA9GO-Vw1HecKm_zm264Z9gRHGsL0cAFFhXPln_Oq_9A-SHVBY3SmzyenrZqVTtDkEStfg_VhhshNqHBEU2T6iCvXBQETQavrLkbPkbrK2KJ4YdhOMh3BQZQpoDCpQ_ucTCNFVgiNAWZzrMvVVxgXX6OKBgbz2o_W0oITF7S6XNm8btjEHH9zWWPDDQwNgJtnCwY_uc6fpBgLLW_MgGJyvh2po9xCsjPbMpTYnYMa2fAMPO8uyROBmJ8hKZFby0WAdx-6BnGa_bEMxXLzAMJIgqhWh/file [following]\n",
            "--2021-02-08 18:18:44--  https://ucd2d6554069a5d02718b84dfc5e.dl.dropboxusercontent.com/cd/0/inline2/BIl5hjFyM7RodxWrKJc-EG64WtdKfAZwn-90i0iamUscFUfrrABJ2JldwcB7XXCA9GO-Vw1HecKm_zm264Z9gRHGsL0cAFFhXPln_Oq_9A-SHVBY3SmzyenrZqVTtDkEStfg_VhhshNqHBEU2T6iCvXBQETQavrLkbPkbrK2KJ4YdhOMh3BQZQpoDCpQ_ucTCNFVgiNAWZzrMvVVxgXX6OKBgbz2o_W0oITF7S6XNm8btjEHH9zWWPDDQwNgJtnCwY_uc6fpBgLLW_MgGJyvh2po9xCsjPbMpTYnYMa2fAMPO8uyROBmJ8hKZFby0WAdx-6BnGa_bEMxXLzAMJIgqhWh/file\n",
            "Reusing existing connection to ucd2d6554069a5d02718b84dfc5e.dl.dropboxusercontent.com:443.\n",
            "HTTP request sent, awaiting response... 200 OK\n",
            "Length: 89616062 (85M) [application/octet-stream]\n",
            "Saving to: ‘/content/torchMoji/model/pytorch_model.bin’\n",
            "\n",
            "/content/torchMoji/ 100%[===================>]  85.46M   132MB/s    in 0.6s    \n",
            "\n",
            "2021-02-08 18:18:45 (132 MB/s) - ‘/content/torchMoji/model/pytorch_model.bin’ saved [89616062/89616062]\n",
            "\n",
            "Downloaded weights to model/pytorch_model.bin\n"
          ],
          "name": "stdout"
        }
      ]
    },
    {
      "cell_type": "code",
      "metadata": {
        "id": "vxyfy73tcq_9"
      },
      "source": [
        "import numpy as np\r\n",
        "import emoji, json\r\n",
        "from torchmoji.global_variables import PRETRAINED_PATH, VOCAB_PATH\r\n",
        "from torchmoji.sentence_tokenizer import SentenceTokenizer\r\n",
        "from torchmoji.model_def import torchmoji_emojis\r\n",
        "from unidecode import unidecode\r\n",
        "  \r\n",
        "EMOJIS = \":joy: :unamused: :weary: :sob: :heart_eyes: :pensive: :ok_hand: :blush: :heart: :smirk: :grin: :notes: :flushed: :100: :sleeping: :relieved: :relaxed: :raised_hands: :two_hearts: :expressionless: :sweat_smile: :pray: :confused: :kissing_heart: :heartbeat: :neutral_face: :information_desk_person: :disappointed: :see_no_evil: :tired_face: :v: :sunglasses: :rage: :thumbsup: :cry: :sleepy: :yum: :triumph: :hand: :mask: :clap: :eyes: :gun: :persevere: :smiling_imp: :sweat: :broken_heart: :yellow_heart: :musical_note: :speak_no_evil: :wink: :skull: :confounded: :smile: :stuck_out_tongue_winking_eye: :angry: :no_good: :muscle: :facepunch: :purple_heart: :sparkling_heart: :blue_heart: :grimacing: :sparkles:\".split(' ')\r\n",
        "# EMOJIS = \":disappointed: :disappointed: :disappointed: :smile: :disappointed: :thumbsup: :smile: :smile: :smile: :smile: :smile: :confused: :smile: :disappointed: :smile: :smile: :thumbsup: :smile: :disappointed: :confused: :disappointed: :confused: :smile: :smile: :disappointed: :thumbsup: :disappointed: :smile: :disappointed: :thumbsup: :smile: :angry: :thumbsup: :disappointed: :disappointed: :smile: :smile: :angry: :thumbsup: :thumbsup: :disappointed: :disappointed: :angry: :angry: :disappointed: :disappointed: :smile: :smile: :thumbsup: :smile: :confused: :angry: :smile: :thumbsup: :angry: :disappointed: :thumbsup: :disappointed: :smile: :smile: :smile: :thumbsup: :thumbsup: :smile:\".split(' ')\r\n",
        "\r\n",
        "model = torchmoji_emojis(PRETRAINED_PATH)\r\n",
        "\r\n",
        "with open(VOCAB_PATH, 'r') as f:\r\n",
        "  vocabulary = json.load(f)\r\n",
        "st = SentenceTokenizer(vocabulary, 30)\r\n",
        "\r\n",
        "def deepmojify(sentence,top_n = 5):\r\n",
        "    print(sentence)\r\n",
        "    if pd.isna(sentence): return \"\"\r\n",
        "    sentence  = unidecode(sentence)\r\n",
        "    tokenized, _ ,_ = st.tokenize_sentences([sentence])\r\n",
        "    prob = model(tokenized)[0]\r\n",
        "    ind = np.argpartition(prob, -top_n)[-top_n:]\r\n",
        "    emoji_ids = ind[np.argsort(prob[ind])][::-1]\r\n",
        "    emojis = map(lambda x: EMOJIS[x], emoji_ids)\r\n",
        "    return emoji.emojize(f\" {' '.join(emojis)}\", use_aliases=True)\r\n"
      ],
      "execution_count": 21,
      "outputs": []
    },
    {
      "cell_type": "code",
      "metadata": {
        "colab": {
          "base_uri": "https://localhost:8080/"
        },
        "id": "7QAvUn126tGR",
        "outputId": "953185e8-4f33-438d-b16c-7059a14bc029"
      },
      "source": [
        "df.columns"
      ],
      "execution_count": 20,
      "outputs": [
        {
          "output_type": "execute_result",
          "data": {
            "text/plain": [
              "Index(['name', 'rating', 'date', 'cust_rating', 'review', 'sentiment'], dtype='object')"
            ]
          },
          "metadata": {
            "tags": []
          },
          "execution_count": 20
        }
      ]
    },
    {
      "cell_type": "code",
      "metadata": {
        "id": "Ku230kM4hSHQ"
      },
      "source": [
        "df['emotion'] = [deepmojify(rev, top_n = 1) for rev in df['review']]"
      ],
      "execution_count": null,
      "outputs": []
    },
    {
      "cell_type": "code",
      "metadata": {
        "id": "0AzR61AcQklQ"
      },
      "source": [
        "df.to_csv('final.csv')"
      ],
      "execution_count": 23,
      "outputs": []
    },
    {
      "cell_type": "code",
      "metadata": {
        "colab": {
          "base_uri": "https://localhost:8080/",
          "height": 17
        },
        "id": "VWplZU32QzTw",
        "outputId": "bfff50e0-9c0c-4b1e-92a9-8ae6bd1a1a76"
      },
      "source": [
        "from google.colab import files\r\n",
        "files.download('final.csv') "
      ],
      "execution_count": 24,
      "outputs": [
        {
          "output_type": "display_data",
          "data": {
            "application/javascript": [
              "\n",
              "    async function download(id, filename, size) {\n",
              "      if (!google.colab.kernel.accessAllowed) {\n",
              "        return;\n",
              "      }\n",
              "      const div = document.createElement('div');\n",
              "      const label = document.createElement('label');\n",
              "      label.textContent = `Downloading \"${filename}\": `;\n",
              "      div.appendChild(label);\n",
              "      const progress = document.createElement('progress');\n",
              "      progress.max = size;\n",
              "      div.appendChild(progress);\n",
              "      document.body.appendChild(div);\n",
              "\n",
              "      const buffers = [];\n",
              "      let downloaded = 0;\n",
              "\n",
              "      const channel = await google.colab.kernel.comms.open(id);\n",
              "      // Send a message to notify the kernel that we're ready.\n",
              "      channel.send({})\n",
              "\n",
              "      for await (const message of channel.messages) {\n",
              "        // Send a message to notify the kernel that we're ready.\n",
              "        channel.send({})\n",
              "        if (message.buffers) {\n",
              "          for (const buffer of message.buffers) {\n",
              "            buffers.push(buffer);\n",
              "            downloaded += buffer.byteLength;\n",
              "            progress.value = downloaded;\n",
              "          }\n",
              "        }\n",
              "      }\n",
              "      const blob = new Blob(buffers, {type: 'application/binary'});\n",
              "      const a = document.createElement('a');\n",
              "      a.href = window.URL.createObjectURL(blob);\n",
              "      a.download = filename;\n",
              "      div.appendChild(a);\n",
              "      a.click();\n",
              "      div.remove();\n",
              "    }\n",
              "  "
            ],
            "text/plain": [
              "<IPython.core.display.Javascript object>"
            ]
          },
          "metadata": {
            "tags": []
          }
        },
        {
          "output_type": "display_data",
          "data": {
            "application/javascript": [
              "download(\"download_147890a0-3e78-4259-8464-c374ecd2b625\", \"final.csv\", 8708436)"
            ],
            "text/plain": [
              "<IPython.core.display.Javascript object>"
            ]
          },
          "metadata": {
            "tags": []
          }
        }
      ]
    },
    {
      "cell_type": "code",
      "metadata": {
        "id": "CJs6P1Oyc3SH"
      },
      "source": [
        "from unidecode import unidecode\r\n",
        "emo = []\r\n",
        "for _ in df['review'].to_list():\r\n",
        "    if pd.isna(_) == False:\r\n",
        "        em = deepmojify(unidecode(_), top_n = 1)\r\n",
        "        # if em == ' 😷' : print(_,em)\r\n",
        "        emo.append(em)\r\n",
        "        # print(deepmojify(unidecode(_), top_n = 1))"
      ],
      "execution_count": null,
      "outputs": []
    },
    {
      "cell_type": "code",
      "metadata": {
        "id": "BoBhrnwgJPik"
      },
      "source": [
        "from PIL import Image \r\n",
        "img = Image.open('aa.png') \r\n",
        "  \r\n",
        "# Output Images \r\n",
        "img.show() "
      ],
      "execution_count": null,
      "outputs": []
    },
    {
      "cell_type": "markdown",
      "metadata": {
        "id": "zhiMfl7JpK4J"
      },
      "source": [
        "#Dash"
      ]
    },
    {
      "cell_type": "code",
      "metadata": {
        "colab": {
          "base_uri": "https://localhost:8080/",
          "height": 420
        },
        "id": "5S0IHcONj_WG",
        "outputId": "39e767a5-aaea-4dac-fc92-24c265e17dff"
      },
      "source": [
        "da = df.groupby('emotion').count()\r\n",
        "da.name = (da.name - min(da.name))/(max(da.name) - min(da.name))\r\n",
        "da"
      ],
      "execution_count": 25,
      "outputs": [
        {
          "output_type": "execute_result",
          "data": {
            "text/html": [
              "<div>\n",
              "<style scoped>\n",
              "    .dataframe tbody tr th:only-of-type {\n",
              "        vertical-align: middle;\n",
              "    }\n",
              "\n",
              "    .dataframe tbody tr th {\n",
              "        vertical-align: top;\n",
              "    }\n",
              "\n",
              "    .dataframe thead th {\n",
              "        text-align: right;\n",
              "    }\n",
              "</style>\n",
              "<table border=\"1\" class=\"dataframe\">\n",
              "  <thead>\n",
              "    <tr style=\"text-align: right;\">\n",
              "      <th></th>\n",
              "      <th>name</th>\n",
              "      <th>rating</th>\n",
              "      <th>date</th>\n",
              "      <th>cust_rating</th>\n",
              "      <th>review</th>\n",
              "      <th>sentiment</th>\n",
              "    </tr>\n",
              "    <tr>\n",
              "      <th>emotion</th>\n",
              "      <th></th>\n",
              "      <th></th>\n",
              "      <th></th>\n",
              "      <th></th>\n",
              "      <th></th>\n",
              "      <th></th>\n",
              "    </tr>\n",
              "  </thead>\n",
              "  <tbody>\n",
              "    <tr>\n",
              "      <th></th>\n",
              "      <td>0.051777</td>\n",
              "      <td>543</td>\n",
              "      <td>543</td>\n",
              "      <td>543</td>\n",
              "      <td>0</td>\n",
              "      <td>543</td>\n",
              "    </tr>\n",
              "    <tr>\n",
              "      <th>☺</th>\n",
              "      <td>0.004968</td>\n",
              "      <td>53</td>\n",
              "      <td>53</td>\n",
              "      <td>53</td>\n",
              "      <td>53</td>\n",
              "      <td>53</td>\n",
              "    </tr>\n",
              "    <tr>\n",
              "      <th>✋</th>\n",
              "      <td>0.001051</td>\n",
              "      <td>12</td>\n",
              "      <td>12</td>\n",
              "      <td>12</td>\n",
              "      <td>12</td>\n",
              "      <td>12</td>\n",
              "    </tr>\n",
              "    <tr>\n",
              "      <th>✌</th>\n",
              "      <td>0.003344</td>\n",
              "      <td>36</td>\n",
              "      <td>36</td>\n",
              "      <td>36</td>\n",
              "      <td>36</td>\n",
              "      <td>36</td>\n",
              "    </tr>\n",
              "    <tr>\n",
              "      <th>✨</th>\n",
              "      <td>0.023214</td>\n",
              "      <td>244</td>\n",
              "      <td>244</td>\n",
              "      <td>244</td>\n",
              "      <td>244</td>\n",
              "      <td>244</td>\n",
              "    </tr>\n",
              "    <tr>\n",
              "      <th>...</th>\n",
              "      <td>...</td>\n",
              "      <td>...</td>\n",
              "      <td>...</td>\n",
              "      <td>...</td>\n",
              "      <td>...</td>\n",
              "      <td>...</td>\n",
              "    </tr>\n",
              "    <tr>\n",
              "      <th>🙅</th>\n",
              "      <td>0.007356</td>\n",
              "      <td>78</td>\n",
              "      <td>78</td>\n",
              "      <td>78</td>\n",
              "      <td>78</td>\n",
              "      <td>78</td>\n",
              "    </tr>\n",
              "    <tr>\n",
              "      <th>🙈</th>\n",
              "      <td>0.001720</td>\n",
              "      <td>19</td>\n",
              "      <td>19</td>\n",
              "      <td>19</td>\n",
              "      <td>19</td>\n",
              "      <td>19</td>\n",
              "    </tr>\n",
              "    <tr>\n",
              "      <th>🙊</th>\n",
              "      <td>0.000287</td>\n",
              "      <td>4</td>\n",
              "      <td>4</td>\n",
              "      <td>4</td>\n",
              "      <td>4</td>\n",
              "      <td>4</td>\n",
              "    </tr>\n",
              "    <tr>\n",
              "      <th>🙌</th>\n",
              "      <td>0.003439</td>\n",
              "      <td>37</td>\n",
              "      <td>37</td>\n",
              "      <td>37</td>\n",
              "      <td>37</td>\n",
              "      <td>37</td>\n",
              "    </tr>\n",
              "    <tr>\n",
              "      <th>🙏</th>\n",
              "      <td>0.010031</td>\n",
              "      <td>106</td>\n",
              "      <td>106</td>\n",
              "      <td>106</td>\n",
              "      <td>106</td>\n",
              "      <td>106</td>\n",
              "    </tr>\n",
              "  </tbody>\n",
              "</table>\n",
              "<p>61 rows × 6 columns</p>\n",
              "</div>"
            ],
            "text/plain": [
              "             name  rating  date  cust_rating  review  sentiment\n",
              "emotion                                                        \n",
              "         0.051777     543   543          543       0        543\n",
              " ☺       0.004968      53    53           53      53         53\n",
              " ✋       0.001051      12    12           12      12         12\n",
              " ✌       0.003344      36    36           36      36         36\n",
              " ✨       0.023214     244   244          244     244        244\n",
              "...           ...     ...   ...          ...     ...        ...\n",
              " 🙅       0.007356      78    78           78      78         78\n",
              " 🙈       0.001720      19    19           19      19         19\n",
              " 🙊       0.000287       4     4            4       4          4\n",
              " 🙌       0.003439      37    37           37      37         37\n",
              " 🙏       0.010031     106   106          106     106        106\n",
              "\n",
              "[61 rows x 6 columns]"
            ]
          },
          "metadata": {
            "tags": []
          },
          "execution_count": 25
        }
      ]
    },
    {
      "cell_type": "code",
      "metadata": {
        "id": "jHnSjV6huZjD"
      },
      "source": [
        "!pip install emoji -q"
      ],
      "execution_count": 26,
      "outputs": []
    },
    {
      "cell_type": "code",
      "metadata": {
        "id": "-WV07Pw6CS0N",
        "colab": {
          "base_uri": "https://localhost:8080/"
        },
        "outputId": "2128c51c-83e7-4f76-b67b-a191ac9354b1"
      },
      "source": [
        "!pip install jupyter-dash -q\r\n",
        "!pip install dash-dangerously-set-inner-html -q"
      ],
      "execution_count": 27,
      "outputs": [
        {
          "output_type": "stream",
          "text": [
            "\u001b[K     |████████████████████████████████| 81kB 4.6MB/s \n",
            "\u001b[K     |████████████████████████████████| 1.0MB 8.8MB/s \n",
            "\u001b[K     |████████████████████████████████| 3.5MB 22.2MB/s \n",
            "\u001b[K     |████████████████████████████████| 194kB 33.4MB/s \n",
            "\u001b[K     |████████████████████████████████| 1.8MB 55.1MB/s \n",
            "\u001b[K     |████████████████████████████████| 358kB 37.8MB/s \n",
            "\u001b[?25h  Building wheel for dash (setup.py) ... \u001b[?25l\u001b[?25hdone\n",
            "  Building wheel for dash-renderer (setup.py) ... \u001b[?25l\u001b[?25hdone\n",
            "  Building wheel for dash-core-components (setup.py) ... \u001b[?25l\u001b[?25hdone\n",
            "  Building wheel for dash-html-components (setup.py) ... \u001b[?25l\u001b[?25hdone\n",
            "  Building wheel for dash-table (setup.py) ... \u001b[?25l\u001b[?25hdone\n",
            "  Building wheel for dash-dangerously-set-inner-html (setup.py) ... \u001b[?25l\u001b[?25hdone\n"
          ],
          "name": "stdout"
        }
      ]
    },
    {
      "cell_type": "code",
      "metadata": {
        "id": "q0s2Q0ko5bWJ"
      },
      "source": [
        "stylecss = '''body {\r\n",
        "    font-family: \"Open Sans\", sans-serif;\r\n",
        "    background-color: #1e2130;\r\n",
        "    margin: 0;\r\n",
        "}'''\r\n",
        "\r\n",
        "import os\r\n",
        "if not os.path.exists('assets'):\r\n",
        "    os.makedirs('assets')\r\n",
        "sc = open(\"assets/style.css\",\"w\")\r\n",
        "sc.write(stylecss)\r\n",
        "sc.close()"
      ],
      "execution_count": 28,
      "outputs": []
    },
    {
      "cell_type": "code",
      "metadata": {
        "colab": {
          "base_uri": "https://localhost:8080/"
        },
        "id": "qs2lXifetW9P",
        "outputId": "7ff68835-f4e2-4d04-c6be-600880768a0c"
      },
      "source": [
        "df.emotion.unique()"
      ],
      "execution_count": 29,
      "outputs": [
        {
          "output_type": "execute_result",
          "data": {
            "text/plain": [
              "array(['', ' 👍', ' 😕', ' 😡', ' 😋', ' 💓', ' 😷', ' 😅', ' 😊', ' 😌', ' 🎶',\n",
              "       ' 😑', ' ☺', ' ✨', ' 😍', ' 😜', ' 👌', ' ❤', ' 😠', ' 😢', ' 💪', ' 😄',\n",
              "       ' 🙅', ' 😉', ' 😐', ' 😈', ' 💛', ' 😳', ' 😎', ' 😞', ' 😬', ' 👏', ' 💙',\n",
              "       ' 👀', ' 💁', ' 💔', ' 🙏', ' 😔', ' ✌', ' 🔫', ' 🎵', ' 😪', ' 💀', ' 💯',\n",
              "       ' 💖', ' 😖', ' 🙌', ' 😂', ' 😓', ' 😒', ' 😣', ' 🙈', ' 😘', ' 😴', ' 😤',\n",
              "       ' 💜', ' 👊', ' ✋', ' 😭', ' 😁', ' 🙊'], dtype=object)"
            ]
          },
          "metadata": {
            "tags": []
          },
          "execution_count": 29
        }
      ]
    },
    {
      "cell_type": "code",
      "metadata": {
        "id": "ZKiDHS_VCPNk",
        "colab": {
          "base_uri": "https://localhost:8080/",
          "height": 50
        },
        "outputId": "a2a68dfc-77f7-4564-f5fa-90df2854ba6c"
      },
      "source": [
        "import plotly.express as px\r\n",
        "from jupyter_dash import JupyterDash\r\n",
        "import dash_core_components as dcc\r\n",
        "import dash_html_components as html\r\n",
        "from dash.dependencies import Input, Output\r\n",
        "import dash\r\n",
        "import dash_table.DataTable as DT\r\n",
        "from  dash_dangerously_set_inner_html import DangerouslySetInnerHTML as DSIH\r\n",
        "import json\r\n",
        "\r\n",
        "rest_dict = {}\r\n",
        "for drop in rest_names:\r\n",
        "    rest =  df[df.name == drop].sort_values('date')#[-400:]\r\n",
        "    rest['date'] = rest['date'].astype('string')\r\n",
        "    rest = rest[pd.notna(rest['review'])]\r\n",
        "    rest['smooth_sentiment'] = rest['sentiment'].rolling(int(len(rest)/30)).mean()\r\n",
        "    rest['smooth_cust_rating'] = (rest['cust_rating']/10).rolling(int(len(rest)/40)).mean()\r\n",
        "    rest = rest[pd.notna(rest['smooth_sentiment'])]\r\n",
        "    rest = rest.set_index(i for i in range(len(rest)))\r\n",
        "    rest_dict[drop] = rest\r\n",
        "\r\n",
        "# external_css = ['https://codepen.io/chriddyp/pen/bWLwgP.css']\r\n",
        "\r\n",
        "app = JupyterDash(__name__)#,external_stylesheets=external_css)\r\n",
        "    \r\n",
        "app_styling = {\r\n",
        "    'background': '#1e2130',\r\n",
        "    'layout': '#161a28',\r\n",
        "    'text':'#000000',\r\n",
        "    'text-shadow':'2px 2px 5px #0A76BA',\r\n",
        "    'box-shadow':'4px 4px 5px #0E1017',\r\n",
        "}\r\n",
        "\r\n",
        "#'border':'1px solid grey',\r\n",
        "dropdown_label_style = {'width':'10%','height':'40px','line-height': '35px','float':'left','color':'white','font-size':'20px','text-shadow': app_styling['text-shadow'],'text-align':'center'}\r\n",
        "dropdown_div_style = {'width':'85%','height':'40px','float':'right','color':'black'}\r\n",
        "graph_style = {'width': '70%','float': 'left'}\r\n",
        "figure_text_style={'text-shadow': app_styling['text-shadow'],'box-shadow': app_styling['box-shadow']}\r\n",
        "head_style = {'font-size':'20px','text-align':'center','text-shadow': app_styling['text-shadow'],'margin':'5%'}\r\n",
        "text_style = {'font-size':'50px','text-align':'center','text-shadow': app_styling['text-shadow']}\r\n",
        "rating_div_style = {'width': '50%','float': 'left','color':'white','height':'120px','background-color':app_styling['layout'],'box-shadow': app_styling['box-shadow']}\r\n",
        "Sentiment_div_style = {'width': '49%','float': 'right','color':'white','height':'120px','background-color':app_styling['layout'],'box-shadow': app_styling['box-shadow']}\r\n",
        "review_div_style = {'height':'282.5px','overflow-y':'scroll','background-color':app_styling['layout'],'box-shadow': app_styling['box-shadow']}\r\n",
        "review_text_style = {'width': '86%','font-size':'17px','text-align':'centre','color':'white','margin':'3% 5%'}\r\n",
        "graph_hover_data_style = {'width': '29%','float': 'right'}\r\n",
        "gap_div = html.Div(style={'height':'15px','clear':'both'})\r\n",
        "\r\n",
        "app.layout = html.Div([\r\n",
        "                       html.Div([\r\n",
        "                                #  html.H1(\"Zomato Review Analysis\",style={'text-align': 'center','color':'White','font-size':'50px','text-shadow': app_styling['text-shadow']}),\r\n",
        "                                 html.Div([html.Div('Select Restaurant', style=dropdown_label_style),\r\n",
        "                                           html.Div(dcc.Dropdown(id='restaurant-dropdown',\r\n",
        "                                                                 options=[{'label': i, 'value': i} for i in rest_names],\r\n",
        "                                                                 value='PCO'),style=dropdown_div_style)\r\n",
        "                                           ],\r\n",
        "                                          ),\r\n",
        "                                 gap_div,\r\n",
        "                                 html.Div(children=[\r\n",
        "                                                    html.Div(children = [\r\n",
        "                                                                         dcc.Graph(id='graph',style = figure_text_style),\r\n",
        "                                                                         gap_div, \r\n",
        "                                                                         html.Div([\r\n",
        "                                                                                   dcc.Graph(id='radar',style={'width' : '49%','float': 'left','text-shadow': app_styling['text-shadow'],'box-shadow': app_styling['box-shadow']}),\r\n",
        "                                                                                   dcc.Graph(id='pie',style={'width' : '49%','float': 'right','text-shadow': app_styling['text-shadow'],'box-shadow': app_styling['box-shadow']}),\r\n",
        "                                                                                   ],\r\n",
        "                                                                                  ),\r\n",
        "                                                                         ],\r\n",
        "                                                             style=graph_style\r\n",
        "                                                             ),\r\n",
        "                                                    html.Div(children=[\r\n",
        "                                                                       html.Div(children=[\r\n",
        "                                                                                          html.Div([\r\n",
        "                                                                                                    html.Div(children='Rating',style = head_style),\r\n",
        "                                                                                                    html.Div(id='cust_rating',style=text_style)\r\n",
        "                                                                                                    ],\r\n",
        "                                                                                                   style=rating_div_style\r\n",
        "                                                                                                   ),\r\n",
        "                                                                                          html.Div([\r\n",
        "                                                                                                    html.Div(children='Sentiment',style = head_style),\r\n",
        "                                                                                                    html.Div(id='sentiment',style=text_style)\r\n",
        "                                                                                                    ],\r\n",
        "                                                                                                   style=Sentiment_div_style\r\n",
        "                                                                                                   ),\r\n",
        "                                                                                          ],\r\n",
        "                                                                                # style = {'height' : '100px'}\r\n",
        "                                                                                ),\r\n",
        "                                                                       gap_div,\r\n",
        "                                                                       html.Div([\r\n",
        "                                                                                 html.Div(id = 'review',style=review_text_style),\r\n",
        "                                                                                 ],\r\n",
        "                                                                                style = review_div_style\r\n",
        "                                                                                ),\r\n",
        "                                                                       gap_div,\r\n",
        "                                                                       html.Div(\r\n",
        "                                                                           html.Img(src=\"\",style={'height':'100%', 'width':'100%'}),\r\n",
        "                                                                           style = review_div_style),\r\n",
        "                                                                       ],\r\n",
        "                                                             style = graph_hover_data_style\r\n",
        "                                                             ),\r\n",
        "                                                    ],\r\n",
        "                                          ),\r\n",
        "                                 gap_div,\r\n",
        "                                 html.Div(id='table'),\r\n",
        "                                 ],\r\n",
        "                                style={'margin':'4% 3%'}\r\n",
        "                                ),\r\n",
        "                       ],\r\n",
        "                      style = {'background-color':app_styling['background']}\r\n",
        "                      )\r\n",
        "\r\n",
        "\r\n",
        "@app.callback(\r\n",
        "    Output('table', 'children'),\r\n",
        "    Input(\"get\", \"height\")\r\n",
        ")\r\n",
        "def debug(value):\r\n",
        "    return value\r\n",
        "\r\n",
        "# Define callback to update graph\r\n",
        "@app.callback(\r\n",
        "    Output('graph', 'figure'),\r\n",
        "    Output('radar', 'figure'),\r\n",
        "    Output('pie', 'figure'),\r\n",
        "    Input(\"restaurant-dropdown\", \"value\")\r\n",
        ")\r\n",
        "\r\n",
        "def update_figure(drop):\r\n",
        "    fig_font_size = 10\r\n",
        "\r\n",
        "    rest_data = rest_dict[drop]\r\n",
        "\r\n",
        "    fig = go.Figure()\r\n",
        "    # fig.add_trace(go.Scatter(x=rest_data.index,\r\n",
        "    #                          y=rest_data.sentiment,\r\n",
        "    #                          mode='lines+markers',\r\n",
        "    #                          name='confirmed',line=dict(color='yellow', width=2)))\r\n",
        "    # fig.add_trace(go.Scatter(x=rest_data.index,\r\n",
        "    #                          y=rest_data.cust_rating,\r\n",
        "    #                          mode='lines+markers',\r\n",
        "    #                          name='confirmed',line=dict(color='blue', width=2)))\r\n",
        "    fig.add_trace(go.Scatter(x=rest_data.index,\r\n",
        "                             y=rest_data.smooth_sentiment,\r\n",
        "                             mode='lines+markers',\r\n",
        "                             name='Sentiment',line=dict(color='green', width=2)))\r\n",
        "    fig.add_trace(go.Scatter(x=rest_data.index,\r\n",
        "                             y=rest_data.smooth_cust_rating,\r\n",
        "                             mode='lines+markers',\r\n",
        "                             name='Customer Rating',line=dict(color='red', width=2)))\r\n",
        "    fig.update_layout(margin=dict(l=60,r=10,b=20,t=50,pad=0),\r\n",
        "                      paper_bgcolor=app_styling['layout'], \r\n",
        "                      height= 350,\r\n",
        "                      legend=dict(x=.01,y=.98),\r\n",
        "                      title_text = 'Reviews',\r\n",
        "                      font_size=fig_font_size,\r\n",
        "                      xaxis_title=\"Number of reviews\",\r\n",
        "                      yaxis_title=\"Sentiment and rating with rolling mean\",\r\n",
        "                    #   gridcolor = 'Red',\r\n",
        "                    #   clickmode='event+select',\r\n",
        "                      xaxis = {'gridcolor':'grey'},\r\n",
        "                      yaxis = {'gridcolor':'grey'},\r\n",
        "                      plot_bgcolor=app_styling['layout'],\r\n",
        "                      font = {'color':'white'},\r\n",
        "                      hovermode='x'\r\n",
        "                      )\r\n",
        "    \r\n",
        "    radar_data = rest_data.groupby('emotion').count()\r\n",
        "    radar_data.name = (radar_data.name - min(radar_data.name))/(max(radar_data.name) - min(radar_data.name))\r\n",
        "    radar = go.Figure()\r\n",
        "    radar.add_trace(go.Scatterpolar(r=radar_data.name.to_list(),\r\n",
        "                                    theta=radar_data.index.to_list(),\r\n",
        "                                    mode='lines+markers',fill='toself',\r\n",
        "                                    line=dict(width=2,color='#4E7094')))\r\n",
        "    \r\n",
        "    radar.update_layout(margin=dict(l=50,r=50,b=20,t=50,pad=0),\r\n",
        "                    paper_bgcolor=app_styling['layout'],\r\n",
        "                    height= 350,\r\n",
        "                    # legend=dict(x=.01,y=.98),\r\n",
        "                    title_text = 'Emotions',\r\n",
        "                    font_size=fig_font_size,\r\n",
        "                    xaxis_title=\"none\",\r\n",
        "                    yaxis_title=\"Emotional value\",\r\n",
        "                    plot_bgcolor=app_styling['layout'],\r\n",
        "                    font = {'color':'white'},\r\n",
        "                    polar = dict(angularaxis = dict(tickfont = dict(size = 25)),\r\n",
        "                                 radialaxis=dict(visible = True,range = [0,1.2])),\r\n",
        "                    )\r\n",
        "\r\n",
        "   \r\n",
        "    positive,negative,neutral = 0,0,0\r\n",
        "    for senti in rest_data['sentiment']:\r\n",
        "        if senti > 0:\r\n",
        "            positive += 1\r\n",
        "        if senti < 0:\r\n",
        "            negative += 1\r\n",
        "        else:\r\n",
        "            neutral += 1\r\n",
        "    pie = go.Figure()\r\n",
        "    pie.add_trace(go.Pie(values=[positive,negative,neutral],\r\n",
        "                 labels= ['Positive','Negative','Neutral'],\r\n",
        "                 text=['Positive','Negative','Neutral'],\r\n",
        "                 marker={'colors' :['#2EB848','#B82E2E','#2D35B4']},\r\n",
        "                 hole = 0.4))\r\n",
        "    pie.update_layout(margin=dict(l=20,r=20,b=20,t=50,pad=0),\r\n",
        "                      paper_bgcolor=app_styling['layout'],\r\n",
        "                      height= 350,\r\n",
        "                    #   legend=dict(x=.01,y=.98),\r\n",
        "                      title_text = 'Reviews',\r\n",
        "                      font_size=fig_font_size,\r\n",
        "                      xaxis_title=\"name\",\r\n",
        "                      yaxis_title=\"Number of reviews\",\r\n",
        "                      clickmode='event+select',\r\n",
        "                      plot_bgcolor=app_styling['layout'],\r\n",
        "                      font = {'color':'white'},\r\n",
        "                      hovermode='x')\r\n",
        "    \r\n",
        "\r\n",
        "    return [fig,radar,pie]\r\n",
        "\r\n",
        "@app.callback(\r\n",
        "        Output('cust_rating', 'children'),\r\n",
        "        Output('sentiment', 'children'),\r\n",
        "        Output('review', 'children'),\r\n",
        "        Input(\"restaurant-dropdown\", \"value\"),\r\n",
        "        Input(\"graph\", \"hoverData\"),\r\n",
        ")\r\n",
        "def GetHoverData(drop,hoverData):\r\n",
        "    rest_data = rest_dict[drop]\r\n",
        "    X = 12\r\n",
        "    if hoverData != None : X = int(hoverData['points'][0]['x'])\r\n",
        "    rest_data = rest_data[rest_data.index == X]\r\n",
        "    # table_data = rest_data.transpose().reset_index()\r\n",
        "    # table = html.Table(children=[\r\n",
        "    #                              html.Thead(html.Tr(children=[html.Th(col) for col in table_data.columns.values],\r\n",
        "    #                                                 style={'color':app_styling['text']}\r\n",
        "    #                                                 )\r\n",
        "    #                                         ),\r\n",
        "    #                              html.Tbody([html.Tr(children=[html.Td(table_data) for table_data in d],\r\n",
        "    #                                                  style={'color':app_styling['text']}\r\n",
        "    #                                                  )\r\n",
        "    #                                          for d in table_data.values.tolist()])\r\n",
        "    #                             ])\r\n",
        "\r\n",
        "    review = rest_data['review']\r\n",
        "    cust_rating = rest_data['cust_rating']\r\n",
        "    sentiment = rest_data['sentiment']\r\n",
        "    return [cust_rating,sentiment,review]\r\n",
        "\r\n",
        "\r\n",
        "if __name__ == '__main__':\r\n",
        "    app.run_server(debug=True,port = 8020)#mode = \"inline\")"
      ],
      "execution_count": 30,
      "outputs": [
        {
          "output_type": "stream",
          "text": [
            "Dash app running on:\n"
          ],
          "name": "stdout"
        },
        {
          "output_type": "display_data",
          "data": {
            "application/javascript": [
              "(async (port, path, text, element) => {\n",
              "    if (!google.colab.kernel.accessAllowed) {\n",
              "      return;\n",
              "    }\n",
              "    element.appendChild(document.createTextNode(''));\n",
              "    const url = await google.colab.kernel.proxyPort(port);\n",
              "    const anchor = document.createElement('a');\n",
              "    anchor.href = url + path;\n",
              "    anchor.target = '_blank';\n",
              "    anchor.setAttribute('data-href', url + path);\n",
              "    anchor.textContent = text;\n",
              "    element.appendChild(anchor);\n",
              "  })(8020, \"/\", \"http://127.0.0.1:8020/\", window.element)"
            ],
            "text/plain": [
              "<IPython.core.display.Javascript object>"
            ]
          },
          "metadata": {
            "tags": []
          }
        }
      ]
    },
    {
      "cell_type": "code",
      "metadata": {
        "id": "f4knhqQktg4Y"
      },
      "source": [
        "rest_data.transpose().reset_index()"
      ],
      "execution_count": null,
      "outputs": []
    },
    {
      "cell_type": "code",
      "metadata": {
        "id": "8DwOxffZEI0b"
      },
      "source": [
        "rest_data = rest_dict['Local']\r\n",
        "rest_data = rest_data[rest_data.index == 22]\r\n",
        "rest_data.values.tolist()"
      ],
      "execution_count": null,
      "outputs": []
    },
    {
      "cell_type": "code",
      "metadata": {
        "id": "Z5G8V9yfy2N9"
      },
      "source": [
        "aa = df[df.name == 'The Potbelly']\r\n",
        "aa.sort_values('date')"
      ],
      "execution_count": null,
      "outputs": []
    },
    {
      "cell_type": "code",
      "metadata": {
        "id": "SbavYq3sf05u"
      },
      "source": [
        "rest = df[df.name == \"The Potbelly\"].sort_values('date')"
      ],
      "execution_count": null,
      "outputs": []
    },
    {
      "cell_type": "code",
      "metadata": {
        "id": "gIU-V7WZexaj"
      },
      "source": [
        "rest['smooth_sentiment'] = rest['sentiment'].rolling(int(len(rest)/5)).mean()"
      ],
      "execution_count": null,
      "outputs": []
    },
    {
      "cell_type": "code",
      "metadata": {
        "id": "N3-wiCTrg21Q"
      },
      "source": [
        "rest.smooth_sentiment.isna().sum()"
      ],
      "execution_count": null,
      "outputs": []
    },
    {
      "cell_type": "markdown",
      "metadata": {
        "id": "Co8YfWmrIJj4"
      },
      "source": [
        "#Bokeh in Dash"
      ]
    },
    {
      "cell_type": "code",
      "metadata": {
        "id": "HGWaifRKE77R"
      },
      "source": [
        "# bokeh basics\r\n",
        "from bokeh.plotting import figure\r\n",
        "from bokeh.io import show, output_notebook\r\n",
        "\r\n",
        "# Create a blank figure with labels\r\n",
        "p = figure(plot_width = 600, plot_height = 600, \r\n",
        "           title = 'Example Glyphs',\r\n",
        "           x_axis_label = 'X', y_axis_label = 'Y')\r\n",
        "\r\n",
        "# Example data\r\n",
        "squares_x = [1, 3, 4, 5, 8]\r\n",
        "squares_y = [8, 7, 3, 1, 10]\r\n",
        "circles_x = [9, 12, 4, 3, 15]\r\n",
        "circles_y = [8, 4, 11, 6, 10]\r\n",
        "\r\n",
        "# Add squares glyph\r\n",
        "p.square(squares_x, squares_y, size = 12, color = 'navy', alpha = 0.6)\r\n",
        "# Add circle glyph\r\n",
        "p.circle(circles_x, circles_y, size = 12, color = 'red')\r\n",
        "\r\n",
        "# Set to output the plot in the notebook\r\n",
        "output_notebook()\r\n",
        "# Show the plot\r\n",
        "show(p)"
      ],
      "execution_count": null,
      "outputs": []
    },
    {
      "cell_type": "code",
      "metadata": {
        "id": "rJoEd5a5dKBa"
      },
      "source": [
        "# da = pd.DataFrame({'r':[1, 2, 3],'theta':['a', 'b', 'c']})\r\n",
        "# radar = go.Figure()\r\n",
        "# radar.add_trace(go.Scatterpolar(r=da['r'],theta=da['theta'],mode='lines',fill='toself'))\r\n",
        "# radar.update_layout(height=500)"
      ],
      "execution_count": null,
      "outputs": []
    },
    {
      "cell_type": "markdown",
      "metadata": {
        "id": "94_m2tMGHiF_"
      },
      "source": [
        "#Terminal"
      ]
    },
    {
      "cell_type": "code",
      "metadata": {
        "id": "DgUccNhxtfTR"
      },
      "source": [
        "!kill -9 -1"
      ],
      "execution_count": null,
      "outputs": []
    },
    {
      "cell_type": "code",
      "metadata": {
        "id": "csVlYrCasgmn"
      },
      "source": [
        "from IPython.display import JSON\r\n",
        "from google.colab import output\r\n",
        "from subprocess import getoutput\r\n",
        "import os\r\n",
        "\r\n",
        "def shell(command):\r\n",
        "  if command.startswith('cd'):\r\n",
        "    path = command.strip().split(maxsplit=1)[1]\r\n",
        "    os.chdir(path)\r\n",
        "    return JSON([''])\r\n",
        "  return JSON([getoutput(command)])\r\n",
        "output.register_callback('shell', shell)"
      ],
      "execution_count": null,
      "outputs": []
    },
    {
      "cell_type": "code",
      "metadata": {
        "id": "bjNdLwsplPLc"
      },
      "source": [
        "%%html\r\n",
        "<div id=term_demo></div>\r\n",
        "<script src=\"https://code.jquery.com/jquery-latest.js\"></script>\r\n",
        "<script src=\"https://cdn.jsdelivr.net/npm/jquery.terminal/js/jquery.terminal.min.js\"></script>\r\n",
        "<link href=\"https://cdn.jsdelivr.net/npm/jquery.terminal/css/jquery.terminal.min.css\" rel=\"stylesheet\"/>\r\n",
        "<script>\r\n",
        "  $('#term_demo').terminal(async function(command) {\r\n",
        "      if (command !== '') {\r\n",
        "          try {\r\n",
        "              let res = await google.colab.kernel.invokeFunction('shell', [command])\r\n",
        "              let out = res.data['application/json'][0]\r\n",
        "              this.echo(new String(out))\r\n",
        "          } catch(e) {\r\n",
        "              this.error(new String(e));\r\n",
        "          }\r\n",
        "      } else {\r\n",
        "          this.echo('');\r\n",
        "      }\r\n",
        "  }, {\r\n",
        "      greetings: 'Welcome to Colab Shell',\r\n",
        "      name: 'colab_demo',\r\n",
        "      height: 250,\r\n",
        "      prompt: 'colab > '\r\n",
        "  });"
      ],
      "execution_count": null,
      "outputs": []
    },
    {
      "cell_type": "code",
      "metadata": {
        "id": "GguLctNFyrE9"
      },
      "source": [
        "exit()"
      ],
      "execution_count": null,
      "outputs": []
    },
    {
      "cell_type": "markdown",
      "metadata": {
        "id": "NCmdH4GVHoWG"
      },
      "source": [
        "#HTML in Dash"
      ]
    },
    {
      "cell_type": "code",
      "metadata": {
        "id": "pKkbnJTYx8G7"
      },
      "source": [
        "import dash\r\n",
        "from jupyter_dash import JupyterDash\r\n",
        "import dash_html_components as html\r\n",
        "\r\n",
        "\r\n",
        "class CustomDash(JupyterDash):\r\n",
        "    def interpolate_index(self, **kwargs):\r\n",
        "        # Inspect the arguments by printing them\r\n",
        "        print(kwargs)\r\n",
        "        return '''\r\n",
        "        <!DOCTYPE html>\r\n",
        "        <html>\r\n",
        "            <head>\r\n",
        "                <title>My App</title>\r\n",
        "            </head>\r\n",
        "            <body>\r\n",
        "                <h1>Addition of two numbers</h1>\r\n",
        "                <p id=\"demo2\"></p>\r\n",
        "                {app_entry}\r\n",
        "                {config}\r\n",
        "                {scripts}\r\n",
        "                <script>\r\n",
        "                var x=5;\r\n",
        "                var y=6;\r\n",
        "                var z;\r\n",
        "                z=x+y;\r\n",
        "                document.getElementById(\"demo2\").innerHTML=\"Sum of 5 and 6 is \"+ z;\r\n",
        "                </script>\r\n",
        "                {renderer}\r\n",
        "                <div id=\"custom-footer\">My custom footer</div>\r\n",
        "            </body>\r\n",
        "        </html>\r\n",
        "        '''.format(\r\n",
        "            app_entry=kwargs['app_entry'],\r\n",
        "            config=kwargs['config'],\r\n",
        "            scripts=kwargs['scripts'],\r\n",
        "            renderer=kwargs['renderer'])\r\n",
        "\r\n",
        "app = CustomDash()\r\n",
        "\r\n",
        "app.layout = html.Div('Simple Dash App')\r\n",
        "\r\n",
        "app.run_server(debug=True,port = 8060)\r\n"
      ],
      "execution_count": null,
      "outputs": []
    },
    {
      "cell_type": "code",
      "metadata": {
        "id": "npGnHfsizUQh"
      },
      "source": [
        "import dash\r\n",
        "from jupyter_dash import JupyterDash\r\n",
        "import dash_html_components as html\r\n",
        "\r\n",
        "\r\n",
        "class CustomDash(JupyterDash):\r\n",
        "    def interpolate_index(self, **kwargs):\r\n",
        "        # Inspect the arguments by printing them\r\n",
        "        print(kwargs)\r\n",
        "        return '''\r\n",
        "                <html>\r\n",
        "                <head>\r\n",
        "                <title>Simple Radar Chart</title>\r\n",
        "                <link rel=\"stylesheet\" href=\"style.css\"/>\r\n",
        "                <script src=\"https://mbostock.github.com/d3/d3.js?2.5.0\"></script>\r\n",
        "                <script src=\"radar.js\"></script>\r\n",
        "                </head><body><h1>Simple Radar Chart</h1>\r\n",
        "                {app_entry}\r\n",
        "                {config}\r\n",
        "                {scripts}\r\n",
        "                {renderer}\r\n",
        "                <div id=\"viz\">\r\n",
        "                </div>\r\n",
        "                <script>loadViz();</script>\r\n",
        "                </body>\r\n",
        "                </html>\r\n",
        "        '''.format(\r\n",
        "            app_entry=kwargs['app_entry'],\r\n",
        "            config=kwargs['config'],\r\n",
        "            scripts=kwargs['scripts'],\r\n",
        "            renderer=kwargs['renderer'])\r\n",
        "\r\n",
        "app = CustomDash()\r\n",
        "\r\n",
        "app.layout = html.Div('Simpleasdfasdfasdf Dash App')\r\n",
        "app.interpolate_index(app_entry=None,scripts=radarjs,config=None,renderer=None)\r\n",
        "\r\n",
        "\r\n",
        "app.run_server(debug=True,port = 8060)\r\n"
      ],
      "execution_count": null,
      "outputs": []
    },
    {
      "cell_type": "code",
      "metadata": {
        "id": "1kcKS1ka2Gox"
      },
      "source": [
        "stylecss = '''.axis {\r\n",
        "    shape-rendering: crispEdges;\r\n",
        "}\r\n",
        "\r\n",
        ".axis line {\r\n",
        "    stroke: #000000;\r\n",
        "    stroke-width: 2px;\r\n",
        "}\r\n",
        "\r\n",
        ".axis .ticks line {\r\n",
        "    stroke: #4F4F4F;\r\n",
        "    stroke-width: 2px;\r\n",
        "}\r\n",
        "\r\n",
        ".axis .ticks line.minor{\r\n",
        "    stroke: #CCCCCC;\r\n",
        "    stroke-width:1px;'''\r\n",
        "\r\n",
        "sc = open(\"style.css\",\"w\")\r\n",
        "sc.write(radarjs)\r\n",
        "sc.close()"
      ],
      "execution_count": null,
      "outputs": []
    },
    {
      "cell_type": "code",
      "metadata": {
        "id": "oudV3Erq1Rr_"
      },
      "source": [
        "radarjs = '''var series, \r\n",
        "    hours,\r\n",
        "    minVal,\r\n",
        "    maxVal,\r\n",
        "    w = 400,\r\n",
        "    h = 400,\r\n",
        "    vizPadding = {\r\n",
        "        top: 10,\r\n",
        "        right: 0,\r\n",
        "        bottom: 15,\r\n",
        "        left: 0\r\n",
        "    },\r\n",
        "    radius,\r\n",
        "    radiusLength,\r\n",
        "    ruleColor = \"#CCC\";\r\n",
        "\r\n",
        "var loadViz = function(){\r\n",
        "  loadData();\r\n",
        "  buildBase();\r\n",
        "  setScales();\r\n",
        "  addAxes();\r\n",
        "  draw();\r\n",
        "};\r\n",
        "\r\n",
        "var loadData = function(){\r\n",
        "    var randomFromTo = function randomFromTo(from, to){\r\n",
        "       return Math.floor(Math.random() * (to - from + 1) + from);\r\n",
        "    };\r\n",
        "\r\n",
        "    series = [\r\n",
        "      [],\r\n",
        "      []\r\n",
        "    ];\r\n",
        "\r\n",
        "    hours = [];\r\n",
        "\r\n",
        "    for (i = 0; i < 24; i += 1) {\r\n",
        "        series[0][i] = randomFromTo(0,20);\r\n",
        "        series[1][i] = randomFromTo(5,15);\r\n",
        "        hours[i] = i; //in case we want to do different formatting\r\n",
        "    }\r\n",
        "\r\n",
        "    mergedArr = series[0].concat(series[1]);\r\n",
        "\r\n",
        "    minVal = d3.min(mergedArr);\r\n",
        "    maxVal = d3.max(mergedArr);\r\n",
        "    //give 25% of range as buffer to top\r\n",
        "    maxVal = maxVal + ((maxVal - minVal) * 0.25);\r\n",
        "    minVal = 0;\r\n",
        "\r\n",
        "    //to complete the radial lines\r\n",
        "    for (i = 0; i < series.length; i += 1) {\r\n",
        "        series[i].push(series[i][0]);\r\n",
        "    }\r\n",
        "};\r\n",
        "\r\n",
        "var buildBase = function(){\r\n",
        "    var viz = d3.select(\"#viz\")\r\n",
        "        .append('svg:svg')\r\n",
        "        .attr('width', w)\r\n",
        "        .attr('height', h)\r\n",
        "        .attr('class', 'vizSvg');\r\n",
        "\r\n",
        "    viz.append(\"svg:rect\")\r\n",
        "        .attr('id', 'axis-separator')\r\n",
        "        .attr('x', 0)\r\n",
        "        .attr('y', 0)\r\n",
        "        .attr('height', 0)\r\n",
        "        .attr('width', 0)\r\n",
        "        .attr('height', 0);\r\n",
        "    \r\n",
        "    vizBody = viz.append(\"svg:g\")\r\n",
        "        .attr('id', 'body');\r\n",
        "};\r\n",
        "\r\n",
        "setScales = function () {\r\n",
        "  var heightCircleConstraint,\r\n",
        "      widthCircleConstraint,\r\n",
        "      circleConstraint,\r\n",
        "      centerXPos,\r\n",
        "      centerYPos;\r\n",
        "\r\n",
        "  //need a circle so find constraining dimension\r\n",
        "  heightCircleConstraint = h - vizPadding.top - vizPadding.bottom;\r\n",
        "  widthCircleConstraint = w - vizPadding.left - vizPadding.right;\r\n",
        "  circleConstraint = d3.min([\r\n",
        "      heightCircleConstraint, widthCircleConstraint]);\r\n",
        "\r\n",
        "  radius = d3.scale.linear().domain([minVal, maxVal])\r\n",
        "      .range([0, (circleConstraint / 2)]);\r\n",
        "  radiusLength = radius(maxVal);\r\n",
        "\r\n",
        "  //attach everything to the group that is centered around middle\r\n",
        "  centerXPos = widthCircleConstraint / 2 + vizPadding.left;\r\n",
        "  centerYPos = heightCircleConstraint / 2 + vizPadding.top;\r\n",
        "\r\n",
        "  vizBody.attr(\"transform\",\r\n",
        "      \"translate(\" + centerXPos + \", \" + centerYPos + \")\");\r\n",
        "};\r\n",
        "\r\n",
        "addAxes = function () {\r\n",
        "  var radialTicks = radius.ticks(5),\r\n",
        "      i,\r\n",
        "      circleAxes,\r\n",
        "      lineAxes;\r\n",
        "\r\n",
        "  vizBody.selectAll('.circle-ticks').remove();\r\n",
        "  vizBody.selectAll('.line-ticks').remove();\r\n",
        "\r\n",
        "  circleAxes = vizBody.selectAll('.circle-ticks')\r\n",
        "      .data(radialTicks)\r\n",
        "      .enter().append('svg:g')\r\n",
        "      .attr(\"class\", \"circle-ticks\");\r\n",
        "\r\n",
        "  circleAxes.append(\"svg:circle\")\r\n",
        "      .attr(\"r\", function (d, i) {\r\n",
        "          return radius(d);\r\n",
        "      })\r\n",
        "      .attr(\"class\", \"circle\")\r\n",
        "      .style(\"stroke\", ruleColor)\r\n",
        "      .style(\"fill\", \"none\");\r\n",
        "\r\n",
        "  circleAxes.append(\"svg:text\")\r\n",
        "      .attr(\"text-anchor\", \"middle\")\r\n",
        "      .attr(\"dy\", function (d) {\r\n",
        "          return -1 * radius(d);\r\n",
        "      })\r\n",
        "      .text(String);\r\n",
        "\r\n",
        "  lineAxes = vizBody.selectAll('.line-ticks')\r\n",
        "      .data(hours)\r\n",
        "      .enter().append('svg:g')\r\n",
        "      .attr(\"transform\", function (d, i) {\r\n",
        "          return \"rotate(\" + ((i / hours.length * 360) - 90) +\r\n",
        "              \")translate(\" + radius(maxVal) + \")\";\r\n",
        "      })\r\n",
        "      .attr(\"class\", \"line-ticks\");\r\n",
        "\r\n",
        "  lineAxes.append('svg:line')\r\n",
        "      .attr(\"x2\", -1 * radius(maxVal))\r\n",
        "      .style(\"stroke\", ruleColor)\r\n",
        "      .style(\"fill\", \"none\");\r\n",
        "\r\n",
        "  lineAxes.append('svg:text')\r\n",
        "      .text(String)\r\n",
        "      .attr(\"text-anchor\", \"middle\")\r\n",
        "      .attr(\"transform\", function (d, i) {\r\n",
        "          return (i / hours.length * 360) < 180 ? null : \"rotate(180)\";\r\n",
        "      });\r\n",
        "};\r\n",
        "\r\n",
        "var draw = function () {\r\n",
        "  var groups,\r\n",
        "      lines,\r\n",
        "      linesToUpdate;\r\n",
        "\r\n",
        "  highlightedDotSize = 4;\r\n",
        "\r\n",
        "  groups = vizBody.selectAll('.series')\r\n",
        "      .data(series);\r\n",
        "  groups.enter().append(\"svg:g\")\r\n",
        "      .attr('class', 'series')\r\n",
        "      .style('fill', function (d, i) {\r\n",
        "          if(i === 0){\r\n",
        "            return \"green\";\r\n",
        "          } else {\r\n",
        "            return \"blue\";\r\n",
        "          }\r\n",
        "      })\r\n",
        "      .style('stroke', function (d, i) {\r\n",
        "          if(i === 0){\r\n",
        "            return \"green\";\r\n",
        "          } else {\r\n",
        "            return \"blue\";\r\n",
        "          }\r\n",
        "      });\r\n",
        "  groups.exit().remove();\r\n",
        "\r\n",
        "  lines = groups.append('svg:path')\r\n",
        "      .attr(\"class\", \"line\")\r\n",
        "      .attr(\"d\", d3.svg.line.radial()\r\n",
        "          .radius(function (d) {\r\n",
        "              return 0;\r\n",
        "          })\r\n",
        "          .angle(function (d, i) {\r\n",
        "              if (i === 24) {\r\n",
        "                  i = 0;\r\n",
        "              } //close the line\r\n",
        "              return (i / 24) * 2 * Math.PI;\r\n",
        "          }))\r\n",
        "      .style(\"stroke-width\", 3)\r\n",
        "      .style(\"fill\", \"none\");\r\n",
        "\r\n",
        "  groups.selectAll(\".curr-point\")\r\n",
        "      .data(function (d) {\r\n",
        "          return [d[0]];\r\n",
        "      })\r\n",
        "      .enter().append(\"svg:circle\")\r\n",
        "      .attr(\"class\", \"curr-point\")\r\n",
        "      .attr(\"r\", 0);\r\n",
        "\r\n",
        "  groups.selectAll(\".clicked-point\")\r\n",
        "      .data(function (d) {\r\n",
        "          return [d[0]];\r\n",
        "      })\r\n",
        "      .enter().append(\"svg:circle\")\r\n",
        "      .attr('r', 0)\r\n",
        "      .attr(\"class\", \"clicked-point\");\r\n",
        "\r\n",
        "  lines.attr(\"d\", d3.svg.line.radial()\r\n",
        "      .radius(function (d) {\r\n",
        "          return radius(d);\r\n",
        "      })\r\n",
        "      .angle(function (d, i) {\r\n",
        "          if (i === 24) {\r\n",
        "              i = 0;\r\n",
        "          } //close the line\r\n",
        "          return (i / 24) * 2 * Math.PI;\r\n",
        "      }));\r\n",
        "};'''\r\n",
        "\r\n",
        "rr = open(\"radar.js\",\"w\")\r\n",
        "rr.write(radarjs)\r\n",
        "rr.close()"
      ],
      "execution_count": null,
      "outputs": []
    }
  ]
}